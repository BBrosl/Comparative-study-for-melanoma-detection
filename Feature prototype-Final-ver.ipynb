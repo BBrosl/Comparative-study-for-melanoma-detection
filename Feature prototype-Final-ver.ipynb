{
 "cells": [
  {
   "cell_type": "code",
   "execution_count": 1,
   "id": "fd8e2115",
   "metadata": {},
   "outputs": [],
   "source": [
    "import pandas as pd\n",
    "import numpy as np\n",
    "import os\n",
    "\n",
    "import tensorflow as tf\n",
    "from tensorflow.keras.models import Sequential, Model\n",
    "from tensorflow.keras.layers import Conv2D, MaxPooling2D, Flatten, Dense, Dropout, BatchNormalization, GlobalAveragePooling2D\n",
    "from tensorflow.keras import layers, models, callbacks, regularizers, optimizers\n",
    "from tensorflow.keras.callbacks import EarlyStopping\n",
    "from tensorflow.keras.preprocessing.image import ImageDataGenerator\n",
    "from tensorflow.keras.applications import ResNet50\n",
    "from tensorflow.keras.optimizers import Adam\n",
    "from scikeras.wrappers import KerasClassifier\n",
    "from sklearn.utils import shuffle\n",
    "from sklearn.metrics import classification_report, roc_auc_score, precision_score, accuracy_score, recall_score, f1_score, confusion_matrix\n",
    "from sklearn import svm\n",
    "from sklearn.svm import SVC\n",
    "from sklearn.preprocessing import StandardScaler\n",
    "from sklearn.model_selection import ParameterGrid, StratifiedKFold, train_test_split\n",
    "from sklearn.ensemble import RandomForestClassifier\n",
    "from sklearn.pipeline import Pipeline\n",
    "\n",
    "from sklearn.linear_model import SGDClassifier\n",
    "from sklearn.decomposition import PCA\n",
    "\n",
    "from tqdm import tqdm\n",
    "import cv2\n",
    "\n",
    "import matplotlib.pyplot as plt\n",
    "import seaborn as sns"
   ]
  },
  {
   "cell_type": "markdown",
   "id": "d48eb05c",
   "metadata": {},
   "source": [
    "# Dataset preprocessing"
   ]
  },
  {
   "cell_type": "code",
   "execution_count": 2,
   "id": "a633441f",
   "metadata": {},
   "outputs": [],
   "source": [
    "#Loading first dataset\n",
    "dataset1_train = 'data/train'\n",
    "dataset1_test = 'data/test'"
   ]
  },
  {
   "cell_type": "code",
   "execution_count": 3,
   "id": "ddbc952a",
   "metadata": {},
   "outputs": [],
   "source": [
    "#Converting to dataframe\n",
    "def create_df(data_dir):\n",
    "    data = []\n",
    "    for class_name in os.listdir(data_dir):\n",
    "        class_path = os.path.join(data_dir, class_name)\n",
    "        if os.path.isdir(class_path):\n",
    "            for filename in os.listdir(class_path):\n",
    "                data.append({'file_path': os.path.join(class_path, filename), 'label': class_name})\n",
    "    return pd.DataFrame(data)\n",
    "\n",
    "train_df = create_df(dataset1_train)\n",
    "test_df = create_df(dataset1_test)"
   ]
  },
  {
   "cell_type": "code",
   "execution_count": 4,
   "id": "44c6b998",
   "metadata": {},
   "outputs": [
    {
     "name": "stdout",
     "output_type": "stream",
     "text": [
      "Train set summary:\n",
      "benign       6289\n",
      "malignant    5590\n",
      "Name: label, dtype: int64\n",
      "Test set summary:\n",
      "benign       1000\n",
      "malignant    1000\n",
      "Name: label, dtype: int64\n"
     ]
    }
   ],
   "source": [
    "print(\"Train set summary:\")\n",
    "print(train_df['label'].value_counts())\n",
    "\n",
    "print(\"Test set summary:\")\n",
    "print(test_df['label'].value_counts())"
   ]
  },
  {
   "cell_type": "code",
   "execution_count": 5,
   "id": "01dd2c28",
   "metadata": {},
   "outputs": [],
   "source": [
    "#Processing dataframe images\n",
    "def df_preprocessing(df, img_size):\n",
    "    images = []\n",
    "    labels = []\n",
    "    scaler = StandardScaler()\n",
    "    \n",
    "    for _, row in df.iterrows():\n",
    "        img = cv2.imread(row['file_path'])\n",
    "        \n",
    "        #preprocessing steps\n",
    "        img = cv2.cvtColor(img, cv2.COLOR_BGR2GRAY)\n",
    "        img = cv2.resize(img, (img_size, img_size))\n",
    "        img = img.astype('float32') / 255.0\n",
    "        \n",
    "        images.append(img)\n",
    "        labels.append(1 if row['label'] == 'malignant' else 0)\n",
    "\n",
    "    #Convert list to NumPy arrays\n",
    "    images = np.array(images)\n",
    "    labels = np.array(labels)\n",
    "    \n",
    "    #Add channel dimension\n",
    "    images = np.expand_dims(images, axis=-1)\n",
    "    \n",
    "    return images, labels"
   ]
  },
  {
   "cell_type": "code",
   "execution_count": 6,
   "id": "ce6bc939",
   "metadata": {},
   "outputs": [],
   "source": [
    "#Set image size to 112 x 112\n",
    "image_size = 112\n",
    "\n",
    "#Preprocess train images #this is train set\n",
    "train_images, train_labels = df_preprocessing(train_df, image_size)\n",
    "\n",
    "#Preprocess test/validation images #this is validation set\n",
    "val_images, val_labels = df_preprocessing(test_df, image_size)\n",
    "\n"
   ]
  },
  {
   "cell_type": "code",
   "execution_count": 7,
   "id": "ebe4d514",
   "metadata": {},
   "outputs": [
    {
     "name": "stdout",
     "output_type": "stream",
     "text": [
      "Training images shape: (11879, 112, 112, 1)\n",
      "Training labels shape: (11879,)\n",
      "Validation images shape: (2000, 112, 112, 1)\n",
      "Validation labels shape: (2000,)\n"
     ]
    }
   ],
   "source": [
    "# Check shapes\n",
    "print(\"Training images shape:\", train_images.shape)\n",
    "print(\"Training labels shape:\", train_labels.shape)\n",
    "print(\"Validation images shape:\", val_images.shape)\n",
    "print(\"Validation labels shape:\", val_labels.shape)"
   ]
  },
  {
   "cell_type": "markdown",
   "id": "40f966ef",
   "metadata": {},
   "source": [
    "## Data augmentation\n",
    "\n",
    "The code in this section is mainly used for increasing the size of the dataset and balancing the classes."
   ]
  },
  {
   "cell_type": "code",
   "execution_count": 8,
   "id": "c34f5286",
   "metadata": {},
   "outputs": [],
   "source": [
    "datagen = ImageDataGenerator(\n",
    "    rotation_range=20,\n",
    "    width_shift_range=0.2,\n",
    "    height_shift_range=0.2,\n",
    "    shear_range=0.2,\n",
    "    zoom_range=0.2,\n",
    "    horizontal_flip=True,\n",
    "    fill_mode='nearest'\n",
    ")"
   ]
  },
  {
   "cell_type": "code",
   "execution_count": 9,
   "id": "16209108",
   "metadata": {},
   "outputs": [],
   "source": [
    "def balance_classes(images, labels, datagen, target_count):\n",
    "    augmented_images = []\n",
    "    augmented_labels = []\n",
    "    \n",
    "    #Number of each class\n",
    "    class_counts = np.bincount(labels)\n",
    "    \n",
    "    #Calculating number needed to augment plus generating augmented images\n",
    "    for class_label in range(len(class_counts)):\n",
    "        class_indices = np.where(labels == class_label)[0]\n",
    "        num_to_augment = target_count - class_counts[class_label]\n",
    "        \n",
    "        #Generate augmented samples for target class\n",
    "        for i in range(num_to_augment):\n",
    "            idx = np.random.choice(class_indices)\n",
    "            img = images[idx].reshape((1,) + images[idx].shape)\n",
    "            label = labels[idx]\n",
    "            augmented_img = next(datagen.flow(img, batch_size=1))[0].astype('float32')\n",
    "            augmented_images.append(augmented_img)\n",
    "            augmented_labels.append(label)\n",
    "    \n",
    "    #Combine data\n",
    "    augmented_images = np.array(augmented_images)\n",
    "    augmented_labels = np.array(augmented_labels)\n",
    "    balanced_images = np.concatenate((images, augmented_images), axis=0)\n",
    "    balanced_labels = np.concatenate((labels, augmented_labels), axis=0)\n",
    "    \n",
    "    #Shuffling the dataset\n",
    "    shuffle_indices = np.random.permutation(len(balanced_labels))\n",
    "    balanced_images = balanced_images[shuffle_indices]\n",
    "    balanced_labels = balanced_labels[shuffle_indices]\n",
    "    \n",
    "    return balanced_images, balanced_labels"
   ]
  },
  {
   "cell_type": "code",
   "execution_count": 10,
   "id": "ec0a6a37",
   "metadata": {},
   "outputs": [],
   "source": [
    "######NEWWWW########\n",
    "# Set target sample count per class\n",
    "target_sample_count = 8000\n",
    "\n",
    "# Balance the classes\n",
    "train_images_balanced, train_labels_balanced = balance_classes(train_images, train_labels, datagen, target_sample_count)"
   ]
  },
  {
   "cell_type": "code",
   "execution_count": 11,
   "id": "f48be18b",
   "metadata": {},
   "outputs": [
    {
     "name": "stdout",
     "output_type": "stream",
     "text": [
      "Class counts in the new augmented training set:\n",
      "Benign:  8000\n",
      "Malignant:  8000\n"
     ]
    }
   ],
   "source": [
    "#Counting each class\n",
    "label_counts = np.bincount(train_labels_balanced)\n",
    "\n",
    "#Check\n",
    "print(\"Class counts in the new augmented training set:\")\n",
    "print(\"Benign: \", label_counts[0])\n",
    "print(\"Malignant: \", label_counts[1])"
   ]
  },
  {
   "cell_type": "markdown",
   "id": "344f36a0",
   "metadata": {},
   "source": [
    "# Model training/testing\n",
    "This section contains the models and their training and testing processes"
   ]
  },
  {
   "cell_type": "code",
   "execution_count": 12,
   "id": "a4a81fec",
   "metadata": {},
   "outputs": [],
   "source": [
    "np.random.seed(42)\n",
    "tf.random.set_seed(42)"
   ]
  },
  {
   "cell_type": "markdown",
   "id": "cff542a5",
   "metadata": {},
   "source": [
    "## CNN"
   ]
  },
  {
   "cell_type": "code",
   "execution_count": 13,
   "id": "0f5ffb91",
   "metadata": {},
   "outputs": [],
   "source": [
    "def cnn_model(input_shape):\n",
    "    model = models.Sequential([\n",
    "        layers.Conv2D(32, (3, 3), activation='relu', input_shape=input_shape),\n",
    "        layers.MaxPooling2D((2, 2)),\n",
    "        \n",
    "        layers.Conv2D(64, (3, 3), activation='relu'),\n",
    "        layers.MaxPooling2D((2, 2)),\n",
    "        \n",
    "        layers.Flatten(),\n",
    "        layers.Dense(128, activation='relu'),\n",
    "        layers.Dropout(0.2),\n",
    "        layers.Dense(1, activation='sigmoid')\n",
    "    ])\n",
    "    \n",
    "    model.compile(optimizer='adam',\n",
    "                  loss='binary_crossentropy',\n",
    "                  metrics=['accuracy', tf.keras.metrics.AUC(name='auc')])\n",
    "    \n",
    "    return model"
   ]
  },
  {
   "cell_type": "code",
   "execution_count": 14,
   "id": "82d4d30e",
   "metadata": {},
   "outputs": [
    {
     "name": "stderr",
     "output_type": "stream",
     "text": [
      "C:\\Users\\Bakab\\anaconda3\\lib\\site-packages\\keras\\src\\layers\\convolutional\\base_conv.py:107: UserWarning: Do not pass an `input_shape`/`input_dim` argument to a layer. When using Sequential models, prefer using an `Input(shape)` object as the first layer in the model instead.\n",
      "  super().__init__(activity_regularizer=activity_regularizer, **kwargs)\n"
     ]
    },
    {
     "name": "stdout",
     "output_type": "stream",
     "text": [
      "Epoch 1/20\n",
      "\u001b[1m125/125\u001b[0m \u001b[32m━━━━━━━━━━━━━━━━━━━━\u001b[0m\u001b[37m\u001b[0m \u001b[1m35s\u001b[0m 269ms/step - accuracy: 0.6447 - auc: 0.7124 - loss: 0.6630 - val_accuracy: 0.6905 - val_auc: 0.8429 - val_loss: 0.5179\n",
      "Epoch 2/20\n",
      "\u001b[1m125/125\u001b[0m \u001b[32m━━━━━━━━━━━━━━━━━━━━\u001b[0m\u001b[37m\u001b[0m \u001b[1m37s\u001b[0m 296ms/step - accuracy: 0.7682 - auc: 0.8642 - loss: 0.4495 - val_accuracy: 0.7060 - val_auc: 0.8710 - val_loss: 0.4850\n",
      "Epoch 3/20\n",
      "\u001b[1m125/125\u001b[0m \u001b[32m━━━━━━━━━━━━━━━━━━━━\u001b[0m\u001b[37m\u001b[0m \u001b[1m36s\u001b[0m 291ms/step - accuracy: 0.7874 - auc: 0.8806 - loss: 0.4262 - val_accuracy: 0.7315 - val_auc: 0.9012 - val_loss: 0.4548\n",
      "Epoch 4/20\n",
      "\u001b[1m125/125\u001b[0m \u001b[32m━━━━━━━━━━━━━━━━━━━━\u001b[0m\u001b[37m\u001b[0m \u001b[1m36s\u001b[0m 285ms/step - accuracy: 0.7971 - auc: 0.8917 - loss: 0.4067 - val_accuracy: 0.8325 - val_auc: 0.9189 - val_loss: 0.3668\n",
      "Epoch 5/20\n",
      "\u001b[1m125/125\u001b[0m \u001b[32m━━━━━━━━━━━━━━━━━━━━\u001b[0m\u001b[37m\u001b[0m \u001b[1m35s\u001b[0m 280ms/step - accuracy: 0.8168 - auc: 0.9043 - loss: 0.3864 - val_accuracy: 0.8015 - val_auc: 0.9234 - val_loss: 0.3940\n",
      "Epoch 6/20\n",
      "\u001b[1m125/125\u001b[0m \u001b[32m━━━━━━━━━━━━━━━━━━━━\u001b[0m\u001b[37m\u001b[0m \u001b[1m35s\u001b[0m 278ms/step - accuracy: 0.8305 - auc: 0.9164 - loss: 0.3636 - val_accuracy: 0.8270 - val_auc: 0.9307 - val_loss: 0.3666\n",
      "Epoch 7/20\n",
      "\u001b[1m125/125\u001b[0m \u001b[32m━━━━━━━━━━━━━━━━━━━━\u001b[0m\u001b[37m\u001b[0m \u001b[1m34s\u001b[0m 270ms/step - accuracy: 0.8323 - auc: 0.9165 - loss: 0.3622 - val_accuracy: 0.8305 - val_auc: 0.9304 - val_loss: 0.3630\n",
      "Epoch 8/20\n",
      "\u001b[1m125/125\u001b[0m \u001b[32m━━━━━━━━━━━━━━━━━━━━\u001b[0m\u001b[37m\u001b[0m \u001b[1m37s\u001b[0m 297ms/step - accuracy: 0.8424 - auc: 0.9244 - loss: 0.3471 - val_accuracy: 0.8230 - val_auc: 0.9393 - val_loss: 0.3621\n",
      "Epoch 9/20\n",
      "\u001b[1m125/125\u001b[0m \u001b[32m━━━━━━━━━━━━━━━━━━━━\u001b[0m\u001b[37m\u001b[0m \u001b[1m38s\u001b[0m 301ms/step - accuracy: 0.8550 - auc: 0.9355 - loss: 0.3222 - val_accuracy: 0.8435 - val_auc: 0.9417 - val_loss: 0.3479\n",
      "Epoch 10/20\n",
      "\u001b[1m125/125\u001b[0m \u001b[32m━━━━━━━━━━━━━━━━━━━━\u001b[0m\u001b[37m\u001b[0m \u001b[1m35s\u001b[0m 278ms/step - accuracy: 0.8653 - auc: 0.9420 - loss: 0.3061 - val_accuracy: 0.8270 - val_auc: 0.9445 - val_loss: 0.3651\n",
      "Epoch 11/20\n",
      "\u001b[1m125/125\u001b[0m \u001b[32m━━━━━━━━━━━━━━━━━━━━\u001b[0m\u001b[37m\u001b[0m \u001b[1m34s\u001b[0m 275ms/step - accuracy: 0.8728 - auc: 0.9463 - loss: 0.2955 - val_accuracy: 0.8860 - val_auc: 0.9573 - val_loss: 0.2929\n",
      "Epoch 12/20\n",
      "\u001b[1m125/125\u001b[0m \u001b[32m━━━━━━━━━━━━━━━━━━━━\u001b[0m\u001b[37m\u001b[0m \u001b[1m34s\u001b[0m 273ms/step - accuracy: 0.8854 - auc: 0.9560 - loss: 0.2692 - val_accuracy: 0.8625 - val_auc: 0.9544 - val_loss: 0.3207\n",
      "Epoch 13/20\n",
      "\u001b[1m125/125\u001b[0m \u001b[32m━━━━━━━━━━━━━━━━━━━━\u001b[0m\u001b[37m\u001b[0m \u001b[1m33s\u001b[0m 264ms/step - accuracy: 0.8938 - auc: 0.9621 - loss: 0.2503 - val_accuracy: 0.9000 - val_auc: 0.9565 - val_loss: 0.2772\n",
      "Epoch 14/20\n",
      "\u001b[1m125/125\u001b[0m \u001b[32m━━━━━━━━━━━━━━━━━━━━\u001b[0m\u001b[37m\u001b[0m \u001b[1m34s\u001b[0m 275ms/step - accuracy: 0.9068 - auc: 0.9682 - loss: 0.2314 - val_accuracy: 0.8910 - val_auc: 0.9557 - val_loss: 0.2894\n",
      "Epoch 15/20\n",
      "\u001b[1m125/125\u001b[0m \u001b[32m━━━━━━━━━━━━━━━━━━━━\u001b[0m\u001b[37m\u001b[0m \u001b[1m34s\u001b[0m 271ms/step - accuracy: 0.9127 - auc: 0.9724 - loss: 0.2155 - val_accuracy: 0.9070 - val_auc: 0.9598 - val_loss: 0.2831\n",
      "Epoch 16/20\n",
      "\u001b[1m125/125\u001b[0m \u001b[32m━━━━━━━━━━━━━━━━━━━━\u001b[0m\u001b[37m\u001b[0m \u001b[1m32s\u001b[0m 258ms/step - accuracy: 0.9237 - auc: 0.9774 - loss: 0.1956 - val_accuracy: 0.8860 - val_auc: 0.9564 - val_loss: 0.2945\n"
     ]
    }
   ],
   "source": [
    "#early stopping callback\n",
    "early_stopping = callbacks.EarlyStopping(patience=3, restore_best_weights=True)\n",
    "\n",
    "#Training the CNN model\n",
    "# cnn_model = cnn_model((image_size, image_size, 1))\n",
    "cnn_model = cnn_model((image_size, image_size, 1))\n",
    "history = cnn_model.fit(train_images_balanced, train_labels_balanced, epochs=20, batch_size=128, #32,\n",
    "                        validation_data=(val_images, val_labels),\n",
    "                        callbacks=[early_stopping])"
   ]
  },
  {
   "cell_type": "code",
   "execution_count": 15,
   "id": "93a5d116",
   "metadata": {},
   "outputs": [
    {
     "name": "stdout",
     "output_type": "stream",
     "text": [
      "\u001b[1m500/500\u001b[0m \u001b[32m━━━━━━━━━━━━━━━━━━━━\u001b[0m\u001b[37m\u001b[0m \u001b[1m9s\u001b[0m 19ms/step\n",
      "Classification Report on Training Images:\n",
      "              precision    recall  f1-score   support\n",
      "\n",
      "           0     0.9210    0.8875    0.9039      8000\n",
      "           1     0.8914    0.9239    0.9074      8000\n",
      "\n",
      "    accuracy                         0.9057     16000\n",
      "   macro avg     0.9062    0.9057    0.9057     16000\n",
      "weighted avg     0.9062    0.9057    0.9057     16000\n",
      "\n",
      "AUC on Training Images: 0.9713925937499999\n"
     ]
    }
   ],
   "source": [
    "#Evaluateon the training set\n",
    "train_pred_prob_cnn = cnn_model.predict(train_images_balanced)\n",
    "#Convert probabilities to class labels\n",
    "train_pred_cnn = (train_pred_prob_cnn > 0.5).astype(np.int32)\n",
    "\n",
    "print(\"Classification Report on Training Images:\")\n",
    "print(classification_report(train_labels_balanced, train_pred_cnn, digits=4))\n",
    "\n",
    "#AUC calculation\n",
    "train_auc = roc_auc_score(train_labels_balanced, train_pred_prob_cnn)\n",
    "print(\"AUC on Training Images:\", train_auc)"
   ]
  },
  {
   "cell_type": "code",
   "execution_count": 16,
   "id": "ee51e008",
   "metadata": {},
   "outputs": [
    {
     "name": "stdout",
     "output_type": "stream",
     "text": [
      "\u001b[1m63/63\u001b[0m \u001b[32m━━━━━━━━━━━━━━━━━━━━\u001b[0m\u001b[37m\u001b[0m \u001b[1m1s\u001b[0m 19ms/step\n",
      "Classification Report on Test Images:\n",
      "              precision    recall  f1-score   support\n",
      "\n",
      "           0     0.8992    0.9010    0.9001      1000\n",
      "           1     0.9008    0.8990    0.8999      1000\n",
      "\n",
      "    accuracy                         0.9000      2000\n",
      "   macro avg     0.9000    0.9000    0.9000      2000\n",
      "weighted avg     0.9000    0.9000    0.9000      2000\n",
      "\n",
      "AUC on Test Images: 0.956552\n"
     ]
    }
   ],
   "source": [
    "#Predict probabilities for the test images\n",
    "test_pred_prob_cnn = cnn_model.predict(val_images)\n",
    "test_pred_cnn = (test_pred_prob_cnn > 0.5).astype(np.int32)\n",
    "\n",
    "#Evaluate the model on the test images\n",
    "print(\"Classification Report on Test Images:\")\n",
    "print(classification_report(val_labels, test_pred_cnn, digits=4))\n",
    "\n",
    "#AUC calculation\n",
    "test_auc = roc_auc_score(val_labels, test_pred_prob_cnn)\n",
    "print(\"AUC on Test Images:\", test_auc)"
   ]
  },
  {
   "cell_type": "code",
   "execution_count": 17,
   "id": "45a347d9",
   "metadata": {
    "scrolled": true
   },
   "outputs": [
    {
     "data": {
      "image/png": "[encoded data removed]",
      "text/plain": [
       "<Figure size 360x360 with 2 Axes>"
      ]
     },
     "metadata": {
      "needs_background": "light"
     },
     "output_type": "display_data"
    }
   ],
   "source": [
    "cm = confusion_matrix(val_labels, test_pred_cnn)\n",
    "\n",
    "#Plot the confusion matrix\n",
    "plt.figure(figsize=(5,5))\n",
    "sns.heatmap(cm, annot=True, fmt=\"d\")\n",
    "plt.title('Confusion matrix CNN')\n",
    "plt.ylabel('Actual label')\n",
    "plt.xlabel('Predicted label')\n",
    "plt.show()"
   ]
  },
  {
   "cell_type": "markdown",
   "id": "fc3279a2",
   "metadata": {},
   "source": [
    "## Support vector machine (SVM)"
   ]
  },
  {
   "cell_type": "code",
   "execution_count": 18,
   "id": "bf7dc89d",
   "metadata": {},
   "outputs": [],
   "source": [
    "#Flatten the images\n",
    "X_train = train_images_balanced.reshape(train_images_balanced.shape[0], -1)\n",
    "y_train = train_labels_balanced\n",
    "\n",
    "#Reduce dimensionality with PCA\n",
    "pca = PCA(n_components=50)\n",
    "X_train = pca.fit_transform(X_train)"
   ]
  },
  {
   "cell_type": "code",
   "execution_count": 19,
   "id": "ca6b06a7",
   "metadata": {},
   "outputs": [],
   "source": [
    "#Flatten the images\n",
    "X_test = val_images.reshape(val_images.shape[0], -1)\n",
    "y_test = val_labels\n",
    "\n",
    "#Reduce dimensionality with PCA\n",
    "X_test = pca.transform(X_test)"
   ]
  },
  {
   "cell_type": "code",
   "execution_count": 20,
   "id": "5314b92d",
   "metadata": {},
   "outputs": [
    {
     "data": {
      "text/html": [
       "<style>#sk-container-id-1 {\n",
       "  /* Definition of color scheme common for light and dark mode */\n",
       "  --sklearn-color-text: black;\n",
       "  --sklearn-color-line: gray;\n",
       "  /* Definition of color scheme for unfitted estimators */\n",
       "  --sklearn-color-unfitted-level-0: #fff5e6;\n",
       "  --sklearn-color-unfitted-level-1: #f6e4d2;\n",
       "  --sklearn-color-unfitted-level-2: #ffe0b3;\n",
       "  --sklearn-color-unfitted-level-3: chocolate;\n",
       "  /* Definition of color scheme for fitted estimators */\n",
       "  --sklearn-color-fitted-level-0: #f0f8ff;\n",
       "  --sklearn-color-fitted-level-1: #d4ebff;\n",
       "  --sklearn-color-fitted-level-2: #b3dbfd;\n",
       "  --sklearn-color-fitted-level-3: cornflowerblue;\n",
       "\n",
       "  /* Specific color for light theme */\n",
       "  --sklearn-color-text-on-default-background: var(--sg-text-color, var(--theme-code-foreground, var(--jp-content-font-color1, black)));\n",
       "  --sklearn-color-background: var(--sg-background-color, var(--theme-background, var(--jp-layout-color0, white)));\n",
       "  --sklearn-color-border-box: var(--sg-text-color, var(--theme-code-foreground, var(--jp-content-font-color1, black)));\n",
       "  --sklearn-color-icon: #696969;\n",
       "\n",
       "  @media (prefers-color-scheme: dark) {\n",
       "    /* Redefinition of color scheme for dark theme */\n",
       "    --sklearn-color-text-on-default-background: var(--sg-text-color, var(--theme-code-foreground, var(--jp-content-font-color1, white)));\n",
       "    --sklearn-color-background: var(--sg-background-color, var(--theme-background, var(--jp-layout-color0, #111)));\n",
       "    --sklearn-color-border-box: var(--sg-text-color, var(--theme-code-foreground, var(--jp-content-font-color1, white)));\n",
       "    --sklearn-color-icon: #878787;\n",
       "  }\n",
       "}\n",
       "\n",
       "#sk-container-id-1 {\n",
       "  color: var(--sklearn-color-text);\n",
       "}\n",
       "\n",
       "#sk-container-id-1 pre {\n",
       "  padding: 0;\n",
       "}\n",
       "\n",
       "#sk-container-id-1 input.sk-hidden--visually {\n",
       "  border: 0;\n",
       "  clip: rect(1px 1px 1px 1px);\n",
       "  clip: rect(1px, 1px, 1px, 1px);\n",
       "  height: 1px;\n",
       "  margin: -1px;\n",
       "  overflow: hidden;\n",
       "  padding: 0;\n",
       "  position: absolute;\n",
       "  width: 1px;\n",
       "}\n",
       "\n",
       "#sk-container-id-1 div.sk-dashed-wrapped {\n",
       "  border: 1px dashed var(--sklearn-color-line);\n",
       "  margin: 0 0.4em 0.5em 0.4em;\n",
       "  box-sizing: border-box;\n",
       "  padding-bottom: 0.4em;\n",
       "  background-color: var(--sklearn-color-background);\n",
       "}\n",
       "\n",
       "#sk-container-id-1 div.sk-container {\n",
       "  /* jupyter's `normalize.less` sets `[hidden] { display: none; }`\n",
       "     but bootstrap.min.css set `[hidden] { display: none !important; }`\n",
       "     so we also need the `!important` here to be able to override the\n",
       "     default hidden behavior on the sphinx rendered scikit-learn.org.\n",
       "     See: https://github.com/scikit-learn/scikit-learn/issues/21755 */\n",
       "  display: inline-block !important;\n",
       "  position: relative;\n",
       "}\n",
       "\n",
       "#sk-container-id-1 div.sk-text-repr-fallback {\n",
       "  display: none;\n",
       "}\n",
       "\n",
       "div.sk-parallel-item,\n",
       "div.sk-serial,\n",
       "div.sk-item {\n",
       "  /* draw centered vertical line to link estimators */\n",
       "  background-image: linear-gradient(var(--sklearn-color-text-on-default-background), var(--sklearn-color-text-on-default-background));\n",
       "  background-size: 2px 100%;\n",
       "  background-repeat: no-repeat;\n",
       "  background-position: center center;\n",
       "}\n",
       "\n",
       "/* Parallel-specific style estimator block */\n",
       "\n",
       "#sk-container-id-1 div.sk-parallel-item::after {\n",
       "  content: \"\";\n",
       "  width: 100%;\n",
       "  border-bottom: 2px solid var(--sklearn-color-text-on-default-background);\n",
       "  flex-grow: 1;\n",
       "}\n",
       "\n",
       "#sk-container-id-1 div.sk-parallel {\n",
       "  display: flex;\n",
       "  align-items: stretch;\n",
       "  justify-content: center;\n",
       "  background-color: var(--sklearn-color-background);\n",
       "  position: relative;\n",
       "}\n",
       "\n",
       "#sk-container-id-1 div.sk-parallel-item {\n",
       "  display: flex;\n",
       "  flex-direction: column;\n",
       "}\n",
       "\n",
       "#sk-container-id-1 div.sk-parallel-item:first-child::after {\n",
       "  align-self: flex-end;\n",
       "  width: 50%;\n",
       "}\n",
       "\n",
       "#sk-container-id-1 div.sk-parallel-item:last-child::after {\n",
       "  align-self: flex-start;\n",
       "  width: 50%;\n",
       "}\n",
       "\n",
       "#sk-container-id-1 div.sk-parallel-item:only-child::after {\n",
       "  width: 0;\n",
       "}\n",
       "\n",
       "/* Serial-specific style estimator block */\n",
       "\n",
       "#sk-container-id-1 div.sk-serial {\n",
       "  display: flex;\n",
       "  flex-direction: column;\n",
       "  align-items: center;\n",
       "  background-color: var(--sklearn-color-background);\n",
       "  padding-right: 1em;\n",
       "  padding-left: 1em;\n",
       "}\n",
       "\n",
       "\n",
       "/* Toggleable style: style used for estimator/Pipeline/ColumnTransformer box that is\n",
       "clickable and can be expanded/collapsed.\n",
       "- Pipeline and ColumnTransformer use this feature and define the default style\n",
       "- Estimators will overwrite some part of the style using the `sk-estimator` class\n",
       "*/\n",
       "\n",
       "/* Pipeline and ColumnTransformer style (default) */\n",
       "\n",
       "#sk-container-id-1 div.sk-toggleable {\n",
       "  /* Default theme specific background. It is overwritten whether we have a\n",
       "  specific estimator or a Pipeline/ColumnTransformer */\n",
       "  background-color: var(--sklearn-color-background);\n",
       "}\n",
       "\n",
       "/* Toggleable label */\n",
       "#sk-container-id-1 label.sk-toggleable__label {\n",
       "  cursor: pointer;\n",
       "  display: block;\n",
       "  width: 100%;\n",
       "  margin-bottom: 0;\n",
       "  padding: 0.5em;\n",
       "  box-sizing: border-box;\n",
       "  text-align: center;\n",
       "}\n",
       "\n",
       "#sk-container-id-1 label.sk-toggleable__label-arrow:before {\n",
       "  /* Arrow on the left of the label */\n",
       "  content: \"▸\";\n",
       "  float: left;\n",
       "  margin-right: 0.25em;\n",
       "  color: var(--sklearn-color-icon);\n",
       "}\n",
       "\n",
       "#sk-container-id-1 label.sk-toggleable__label-arrow:hover:before {\n",
       "  color: var(--sklearn-color-text);\n",
       "}\n",
       "\n",
       "/* Toggleable content - dropdown */\n",
       "\n",
       "#sk-container-id-1 div.sk-toggleable__content {\n",
       "  max-height: 0;\n",
       "  max-width: 0;\n",
       "  overflow: hidden;\n",
       "  text-align: left;\n",
       "  /* unfitted */\n",
       "  background-color: var(--sklearn-color-unfitted-level-0);\n",
       "}\n",
       "\n",
       "#sk-container-id-1 div.sk-toggleable__content.fitted {\n",
       "  /* fitted */\n",
       "  background-color: var(--sklearn-color-fitted-level-0);\n",
       "}\n",
       "\n",
       "#sk-container-id-1 div.sk-toggleable__content pre {\n",
       "  margin: 0.2em;\n",
       "  border-radius: 0.25em;\n",
       "  color: var(--sklearn-color-text);\n",
       "  /* unfitted */\n",
       "  background-color: var(--sklearn-color-unfitted-level-0);\n",
       "}\n",
       "\n",
       "#sk-container-id-1 div.sk-toggleable__content.fitted pre {\n",
       "  /* unfitted */\n",
       "  background-color: var(--sklearn-color-fitted-level-0);\n",
       "}\n",
       "\n",
       "#sk-container-id-1 input.sk-toggleable__control:checked~div.sk-toggleable__content {\n",
       "  /* Expand drop-down */\n",
       "  max-height: 200px;\n",
       "  max-width: 100%;\n",
       "  overflow: auto;\n",
       "}\n",
       "\n",
       "#sk-container-id-1 input.sk-toggleable__control:checked~label.sk-toggleable__label-arrow:before {\n",
       "  content: \"▾\";\n",
       "}\n",
       "\n",
       "/* Pipeline/ColumnTransformer-specific style */\n",
       "\n",
       "#sk-container-id-1 div.sk-label input.sk-toggleable__control:checked~label.sk-toggleable__label {\n",
       "  color: var(--sklearn-color-text);\n",
       "  background-color: var(--sklearn-color-unfitted-level-2);\n",
       "}\n",
       "\n",
       "#sk-container-id-1 div.sk-label.fitted input.sk-toggleable__control:checked~label.sk-toggleable__label {\n",
       "  background-color: var(--sklearn-color-fitted-level-2);\n",
       "}\n",
       "\n",
       "/* Estimator-specific style */\n",
       "\n",
       "/* Colorize estimator box */\n",
       "#sk-container-id-1 div.sk-estimator input.sk-toggleable__control:checked~label.sk-toggleable__label {\n",
       "  /* unfitted */\n",
       "  background-color: var(--sklearn-color-unfitted-level-2);\n",
       "}\n",
       "\n",
       "#sk-container-id-1 div.sk-estimator.fitted input.sk-toggleable__control:checked~label.sk-toggleable__label {\n",
       "  /* fitted */\n",
       "  background-color: var(--sklearn-color-fitted-level-2);\n",
       "}\n",
       "\n",
       "#sk-container-id-1 div.sk-label label.sk-toggleable__label,\n",
       "#sk-container-id-1 div.sk-label label {\n",
       "  /* The background is the default theme color */\n",
       "  color: var(--sklearn-color-text-on-default-background);\n",
       "}\n",
       "\n",
       "/* On hover, darken the color of the background */\n",
       "#sk-container-id-1 div.sk-label:hover label.sk-toggleable__label {\n",
       "  color: var(--sklearn-color-text);\n",
       "  background-color: var(--sklearn-color-unfitted-level-2);\n",
       "}\n",
       "\n",
       "/* Label box, darken color on hover, fitted */\n",
       "#sk-container-id-1 div.sk-label.fitted:hover label.sk-toggleable__label.fitted {\n",
       "  color: var(--sklearn-color-text);\n",
       "  background-color: var(--sklearn-color-fitted-level-2);\n",
       "}\n",
       "\n",
       "/* Estimator label */\n",
       "\n",
       "#sk-container-id-1 div.sk-label label {\n",
       "  font-family: monospace;\n",
       "  font-weight: bold;\n",
       "  display: inline-block;\n",
       "  line-height: 1.2em;\n",
       "}\n",
       "\n",
       "#sk-container-id-1 div.sk-label-container {\n",
       "  text-align: center;\n",
       "}\n",
       "\n",
       "/* Estimator-specific */\n",
       "#sk-container-id-1 div.sk-estimator {\n",
       "  font-family: monospace;\n",
       "  border: 1px dotted var(--sklearn-color-border-box);\n",
       "  border-radius: 0.25em;\n",
       "  box-sizing: border-box;\n",
       "  margin-bottom: 0.5em;\n",
       "  /* unfitted */\n",
       "  background-color: var(--sklearn-color-unfitted-level-0);\n",
       "}\n",
       "\n",
       "#sk-container-id-1 div.sk-estimator.fitted {\n",
       "  /* fitted */\n",
       "  background-color: var(--sklearn-color-fitted-level-0);\n",
       "}\n",
       "\n",
       "/* on hover */\n",
       "#sk-container-id-1 div.sk-estimator:hover {\n",
       "  /* unfitted */\n",
       "  background-color: var(--sklearn-color-unfitted-level-2);\n",
       "}\n",
       "\n",
       "#sk-container-id-1 div.sk-estimator.fitted:hover {\n",
       "  /* fitted */\n",
       "  background-color: var(--sklearn-color-fitted-level-2);\n",
       "}\n",
       "\n",
       "/* Specification for estimator info (e.g. \"i\" and \"?\") */\n",
       "\n",
       "/* Common style for \"i\" and \"?\" */\n",
       "\n",
       ".sk-estimator-doc-link,\n",
       "a:link.sk-estimator-doc-link,\n",
       "a:visited.sk-estimator-doc-link {\n",
       "  float: right;\n",
       "  font-size: smaller;\n",
       "  line-height: 1em;\n",
       "  font-family: monospace;\n",
       "  background-color: var(--sklearn-color-background);\n",
       "  border-radius: 1em;\n",
       "  height: 1em;\n",
       "  width: 1em;\n",
       "  text-decoration: none !important;\n",
       "  margin-left: 1ex;\n",
       "  /* unfitted */\n",
       "  border: var(--sklearn-color-unfitted-level-1) 1pt solid;\n",
       "  color: var(--sklearn-color-unfitted-level-1);\n",
       "}\n",
       "\n",
       ".sk-estimator-doc-link.fitted,\n",
       "a:link.sk-estimator-doc-link.fitted,\n",
       "a:visited.sk-estimator-doc-link.fitted {\n",
       "  /* fitted */\n",
       "  border: var(--sklearn-color-fitted-level-1) 1pt solid;\n",
       "  color: var(--sklearn-color-fitted-level-1);\n",
       "}\n",
       "\n",
       "/* On hover */\n",
       "div.sk-estimator:hover .sk-estimator-doc-link:hover,\n",
       ".sk-estimator-doc-link:hover,\n",
       "div.sk-label-container:hover .sk-estimator-doc-link:hover,\n",
       ".sk-estimator-doc-link:hover {\n",
       "  /* unfitted */\n",
       "  background-color: var(--sklearn-color-unfitted-level-3);\n",
       "  color: var(--sklearn-color-background);\n",
       "  text-decoration: none;\n",
       "}\n",
       "\n",
       "div.sk-estimator.fitted:hover .sk-estimator-doc-link.fitted:hover,\n",
       ".sk-estimator-doc-link.fitted:hover,\n",
       "div.sk-label-container:hover .sk-estimator-doc-link.fitted:hover,\n",
       ".sk-estimator-doc-link.fitted:hover {\n",
       "  /* fitted */\n",
       "  background-color: var(--sklearn-color-fitted-level-3);\n",
       "  color: var(--sklearn-color-background);\n",
       "  text-decoration: none;\n",
       "}\n",
       "\n",
       "/* Span, style for the box shown on hovering the info icon */\n",
       ".sk-estimator-doc-link span {\n",
       "  display: none;\n",
       "  z-index: 9999;\n",
       "  position: relative;\n",
       "  font-weight: normal;\n",
       "  right: .2ex;\n",
       "  padding: .5ex;\n",
       "  margin: .5ex;\n",
       "  width: min-content;\n",
       "  min-width: 20ex;\n",
       "  max-width: 50ex;\n",
       "  color: var(--sklearn-color-text);\n",
       "  box-shadow: 2pt 2pt 4pt #999;\n",
       "  /* unfitted */\n",
       "  background: var(--sklearn-color-unfitted-level-0);\n",
       "  border: .5pt solid var(--sklearn-color-unfitted-level-3);\n",
       "}\n",
       "\n",
       ".sk-estimator-doc-link.fitted span {\n",
       "  /* fitted */\n",
       "  background: var(--sklearn-color-fitted-level-0);\n",
       "  border: var(--sklearn-color-fitted-level-3);\n",
       "}\n",
       "\n",
       ".sk-estimator-doc-link:hover span {\n",
       "  display: block;\n",
       "}\n",
       "\n",
       "/* \"?\"-specific style due to the `<a>` HTML tag */\n",
       "\n",
       "#sk-container-id-1 a.estimator_doc_link {\n",
       "  float: right;\n",
       "  font-size: 1rem;\n",
       "  line-height: 1em;\n",
       "  font-family: monospace;\n",
       "  background-color: var(--sklearn-color-background);\n",
       "  border-radius: 1rem;\n",
       "  height: 1rem;\n",
       "  width: 1rem;\n",
       "  text-decoration: none;\n",
       "  /* unfitted */\n",
       "  color: var(--sklearn-color-unfitted-level-1);\n",
       "  border: var(--sklearn-color-unfitted-level-1) 1pt solid;\n",
       "}\n",
       "\n",
       "#sk-container-id-1 a.estimator_doc_link.fitted {\n",
       "  /* fitted */\n",
       "  border: var(--sklearn-color-fitted-level-1) 1pt solid;\n",
       "  color: var(--sklearn-color-fitted-level-1);\n",
       "}\n",
       "\n",
       "/* On hover */\n",
       "#sk-container-id-1 a.estimator_doc_link:hover {\n",
       "  /* unfitted */\n",
       "  background-color: var(--sklearn-color-unfitted-level-3);\n",
       "  color: var(--sklearn-color-background);\n",
       "  text-decoration: none;\n",
       "}\n",
       "\n",
       "#sk-container-id-1 a.estimator_doc_link.fitted:hover {\n",
       "  /* fitted */\n",
       "  background-color: var(--sklearn-color-fitted-level-3);\n",
       "}\n",
       "</style><div id=\"sk-container-id-1\" class=\"sk-top-container\"><div class=\"sk-text-repr-fallback\"><pre>SVC(C=100, gamma=0.1)</pre><b>In a Jupyter environment, please rerun this cell to show the HTML representation or trust the notebook. <br />On GitHub, the HTML representation is unable to render, please try loading this page with nbviewer.org.</b></div><div class=\"sk-container\" hidden><div class=\"sk-item\"><div class=\"sk-estimator fitted sk-toggleable\"><input class=\"sk-toggleable__control sk-hidden--visually\" id=\"sk-estimator-id-1\" type=\"checkbox\" checked><label for=\"sk-estimator-id-1\" class=\"sk-toggleable__label fitted sk-toggleable__label-arrow fitted\">&nbsp;&nbsp;SVC<a class=\"sk-estimator-doc-link fitted\" rel=\"noreferrer\" target=\"_blank\" href=\"https://scikit-learn.org/1.5/modules/generated/sklearn.svm.SVC.html\">?<span>Documentation for SVC</span></a><span class=\"sk-estimator-doc-link fitted\">i<span>Fitted</span></span></label><div class=\"sk-toggleable__content fitted\"><pre>SVC(C=100, gamma=0.1)</pre></div> </div></div></div></div>"
      ],
      "text/plain": [
       "SVC(C=100, gamma=0.1)"
      ]
     },
     "execution_count": 20,
     "metadata": {},
     "output_type": "execute_result"
    }
   ],
   "source": [
    "#Training SVM\n",
    "clf = svm.SVC(gamma=0.1, C=100)#originally gamma=0.01, 100 c value\n",
    "clf.fit(X_train, y_train)"
   ]
  },
  {
   "cell_type": "code",
   "execution_count": 21,
   "id": "9d1ce659",
   "metadata": {},
   "outputs": [],
   "source": [
    "#Predictions using test/validation set\n",
    "test_pred_svm = clf.predict(X_test)"
   ]
  },
  {
   "cell_type": "code",
   "execution_count": 22,
   "id": "3d1fd4c4",
   "metadata": {},
   "outputs": [
    {
     "name": "stdout",
     "output_type": "stream",
     "text": [
      "Classification Report on Test Images:\n",
      "              precision    recall  f1-score   support\n",
      "\n",
      "           0     0.9736    0.6650    0.7903      1000\n",
      "           1     0.7456    0.9820    0.8476      1000\n",
      "\n",
      "    accuracy                         0.8235      2000\n",
      "   macro avg     0.8596    0.8235    0.8190      2000\n",
      "weighted avg     0.8596    0.8235    0.8190      2000\n",
      "\n",
      "AUC on Test Images: 0.969659\n"
     ]
    }
   ],
   "source": [
    "#Classification Report\n",
    "print(\"Classification Report on Test Images:\")\n",
    "print(classification_report(y_test, test_pred_svm, digits=4))\n",
    "\n",
    "#AUC on validation set\n",
    "test_pred_prob_svm = clf.decision_function(X_test) \n",
    "test_auc_svm = roc_auc_score(y_test, test_pred_prob_svm)\n",
    "print(\"AUC on Test Images:\", test_auc_svm)"
   ]
  },
  {
   "cell_type": "code",
   "execution_count": 23,
   "id": "1a13ed4d",
   "metadata": {},
   "outputs": [
    {
     "data": {
      "image/png": "[encoded data removed]",
      "text/plain": [
       "<Figure size 360x360 with 2 Axes>"
      ]
     },
     "metadata": {
      "needs_background": "light"
     },
     "output_type": "display_data"
    }
   ],
   "source": [
    "cm = confusion_matrix(val_labels, test_pred_svm)\n",
    "\n",
    "#Plot the confusion matrix\n",
    "plt.figure(figsize=(5,5))\n",
    "sns.heatmap(cm, annot=True, fmt=\"d\")\n",
    "plt.title('Confusion matrix SVM')\n",
    "plt.ylabel('Actual label')\n",
    "plt.xlabel('Predicted label')\n",
    "plt.show()"
   ]
  },
  {
   "cell_type": "markdown",
   "id": "6e8e4017",
   "metadata": {},
   "source": [
    "## Random forest"
   ]
  },
  {
   "cell_type": "code",
   "execution_count": 24,
   "id": "47b19835",
   "metadata": {},
   "outputs": [],
   "source": [
    "#Flatten the images and reduce dimensionality with PCA for the training set\n",
    "X_train_rf = train_images_balanced.reshape(train_images_balanced.shape[0], -1)\n",
    "y_train_rf = train_labels_balanced\n",
    "\n",
    "X_train_rf = pca.fit_transform(X_train_rf)\n",
    "\n",
    "# Flatten the images and reduce dimensionality with PCA for the test set\n",
    "X_test_rf = val_images.reshape(val_images.shape[0], -1)\n",
    "y_test_rf = val_labels\n",
    "X_test_rf = pca.transform(X_test_rf)\n",
    "\n",
    "#Flatten the images (without PCA) for the test set\n",
    "# X_test_rf = val_images.reshape(val_images.shape[0], -1)\n",
    "# y_test_rf = val_labels"
   ]
  },
  {
   "cell_type": "code",
   "execution_count": 25,
   "id": "2a207502",
   "metadata": {},
   "outputs": [
    {
     "data": {
      "text/html": [
       "<style>#sk-container-id-2 {\n",
       "  /* Definition of color scheme common for light and dark mode */\n",
       "  --sklearn-color-text: black;\n",
       "  --sklearn-color-line: gray;\n",
       "  /* Definition of color scheme for unfitted estimators */\n",
       "  --sklearn-color-unfitted-level-0: #fff5e6;\n",
       "  --sklearn-color-unfitted-level-1: #f6e4d2;\n",
       "  --sklearn-color-unfitted-level-2: #ffe0b3;\n",
       "  --sklearn-color-unfitted-level-3: chocolate;\n",
       "  /* Definition of color scheme for fitted estimators */\n",
       "  --sklearn-color-fitted-level-0: #f0f8ff;\n",
       "  --sklearn-color-fitted-level-1: #d4ebff;\n",
       "  --sklearn-color-fitted-level-2: #b3dbfd;\n",
       "  --sklearn-color-fitted-level-3: cornflowerblue;\n",
       "\n",
       "  /* Specific color for light theme */\n",
       "  --sklearn-color-text-on-default-background: var(--sg-text-color, var(--theme-code-foreground, var(--jp-content-font-color1, black)));\n",
       "  --sklearn-color-background: var(--sg-background-color, var(--theme-background, var(--jp-layout-color0, white)));\n",
       "  --sklearn-color-border-box: var(--sg-text-color, var(--theme-code-foreground, var(--jp-content-font-color1, black)));\n",
       "  --sklearn-color-icon: #696969;\n",
       "\n",
       "  @media (prefers-color-scheme: dark) {\n",
       "    /* Redefinition of color scheme for dark theme */\n",
       "    --sklearn-color-text-on-default-background: var(--sg-text-color, var(--theme-code-foreground, var(--jp-content-font-color1, white)));\n",
       "    --sklearn-color-background: var(--sg-background-color, var(--theme-background, var(--jp-layout-color0, #111)));\n",
       "    --sklearn-color-border-box: var(--sg-text-color, var(--theme-code-foreground, var(--jp-content-font-color1, white)));\n",
       "    --sklearn-color-icon: #878787;\n",
       "  }\n",
       "}\n",
       "\n",
       "#sk-container-id-2 {\n",
       "  color: var(--sklearn-color-text);\n",
       "}\n",
       "\n",
       "#sk-container-id-2 pre {\n",
       "  padding: 0;\n",
       "}\n",
       "\n",
       "#sk-container-id-2 input.sk-hidden--visually {\n",
       "  border: 0;\n",
       "  clip: rect(1px 1px 1px 1px);\n",
       "  clip: rect(1px, 1px, 1px, 1px);\n",
       "  height: 1px;\n",
       "  margin: -1px;\n",
       "  overflow: hidden;\n",
       "  padding: 0;\n",
       "  position: absolute;\n",
       "  width: 1px;\n",
       "}\n",
       "\n",
       "#sk-container-id-2 div.sk-dashed-wrapped {\n",
       "  border: 1px dashed var(--sklearn-color-line);\n",
       "  margin: 0 0.4em 0.5em 0.4em;\n",
       "  box-sizing: border-box;\n",
       "  padding-bottom: 0.4em;\n",
       "  background-color: var(--sklearn-color-background);\n",
       "}\n",
       "\n",
       "#sk-container-id-2 div.sk-container {\n",
       "  /* jupyter's `normalize.less` sets `[hidden] { display: none; }`\n",
       "     but bootstrap.min.css set `[hidden] { display: none !important; }`\n",
       "     so we also need the `!important` here to be able to override the\n",
       "     default hidden behavior on the sphinx rendered scikit-learn.org.\n",
       "     See: https://github.com/scikit-learn/scikit-learn/issues/21755 */\n",
       "  display: inline-block !important;\n",
       "  position: relative;\n",
       "}\n",
       "\n",
       "#sk-container-id-2 div.sk-text-repr-fallback {\n",
       "  display: none;\n",
       "}\n",
       "\n",
       "div.sk-parallel-item,\n",
       "div.sk-serial,\n",
       "div.sk-item {\n",
       "  /* draw centered vertical line to link estimators */\n",
       "  background-image: linear-gradient(var(--sklearn-color-text-on-default-background), var(--sklearn-color-text-on-default-background));\n",
       "  background-size: 2px 100%;\n",
       "  background-repeat: no-repeat;\n",
       "  background-position: center center;\n",
       "}\n",
       "\n",
       "/* Parallel-specific style estimator block */\n",
       "\n",
       "#sk-container-id-2 div.sk-parallel-item::after {\n",
       "  content: \"\";\n",
       "  width: 100%;\n",
       "  border-bottom: 2px solid var(--sklearn-color-text-on-default-background);\n",
       "  flex-grow: 1;\n",
       "}\n",
       "\n",
       "#sk-container-id-2 div.sk-parallel {\n",
       "  display: flex;\n",
       "  align-items: stretch;\n",
       "  justify-content: center;\n",
       "  background-color: var(--sklearn-color-background);\n",
       "  position: relative;\n",
       "}\n",
       "\n",
       "#sk-container-id-2 div.sk-parallel-item {\n",
       "  display: flex;\n",
       "  flex-direction: column;\n",
       "}\n",
       "\n",
       "#sk-container-id-2 div.sk-parallel-item:first-child::after {\n",
       "  align-self: flex-end;\n",
       "  width: 50%;\n",
       "}\n",
       "\n",
       "#sk-container-id-2 div.sk-parallel-item:last-child::after {\n",
       "  align-self: flex-start;\n",
       "  width: 50%;\n",
       "}\n",
       "\n",
       "#sk-container-id-2 div.sk-parallel-item:only-child::after {\n",
       "  width: 0;\n",
       "}\n",
       "\n",
       "/* Serial-specific style estimator block */\n",
       "\n",
       "#sk-container-id-2 div.sk-serial {\n",
       "  display: flex;\n",
       "  flex-direction: column;\n",
       "  align-items: center;\n",
       "  background-color: var(--sklearn-color-background);\n",
       "  padding-right: 1em;\n",
       "  padding-left: 1em;\n",
       "}\n",
       "\n",
       "\n",
       "/* Toggleable style: style used for estimator/Pipeline/ColumnTransformer box that is\n",
       "clickable and can be expanded/collapsed.\n",
       "- Pipeline and ColumnTransformer use this feature and define the default style\n",
       "- Estimators will overwrite some part of the style using the `sk-estimator` class\n",
       "*/\n",
       "\n",
       "/* Pipeline and ColumnTransformer style (default) */\n",
       "\n",
       "#sk-container-id-2 div.sk-toggleable {\n",
       "  /* Default theme specific background. It is overwritten whether we have a\n",
       "  specific estimator or a Pipeline/ColumnTransformer */\n",
       "  background-color: var(--sklearn-color-background);\n",
       "}\n",
       "\n",
       "/* Toggleable label */\n",
       "#sk-container-id-2 label.sk-toggleable__label {\n",
       "  cursor: pointer;\n",
       "  display: block;\n",
       "  width: 100%;\n",
       "  margin-bottom: 0;\n",
       "  padding: 0.5em;\n",
       "  box-sizing: border-box;\n",
       "  text-align: center;\n",
       "}\n",
       "\n",
       "#sk-container-id-2 label.sk-toggleable__label-arrow:before {\n",
       "  /* Arrow on the left of the label */\n",
       "  content: \"▸\";\n",
       "  float: left;\n",
       "  margin-right: 0.25em;\n",
       "  color: var(--sklearn-color-icon);\n",
       "}\n",
       "\n",
       "#sk-container-id-2 label.sk-toggleable__label-arrow:hover:before {\n",
       "  color: var(--sklearn-color-text);\n",
       "}\n",
       "\n",
       "/* Toggleable content - dropdown */\n",
       "\n",
       "#sk-container-id-2 div.sk-toggleable__content {\n",
       "  max-height: 0;\n",
       "  max-width: 0;\n",
       "  overflow: hidden;\n",
       "  text-align: left;\n",
       "  /* unfitted */\n",
       "  background-color: var(--sklearn-color-unfitted-level-0);\n",
       "}\n",
       "\n",
       "#sk-container-id-2 div.sk-toggleable__content.fitted {\n",
       "  /* fitted */\n",
       "  background-color: var(--sklearn-color-fitted-level-0);\n",
       "}\n",
       "\n",
       "#sk-container-id-2 div.sk-toggleable__content pre {\n",
       "  margin: 0.2em;\n",
       "  border-radius: 0.25em;\n",
       "  color: var(--sklearn-color-text);\n",
       "  /* unfitted */\n",
       "  background-color: var(--sklearn-color-unfitted-level-0);\n",
       "}\n",
       "\n",
       "#sk-container-id-2 div.sk-toggleable__content.fitted pre {\n",
       "  /* unfitted */\n",
       "  background-color: var(--sklearn-color-fitted-level-0);\n",
       "}\n",
       "\n",
       "#sk-container-id-2 input.sk-toggleable__control:checked~div.sk-toggleable__content {\n",
       "  /* Expand drop-down */\n",
       "  max-height: 200px;\n",
       "  max-width: 100%;\n",
       "  overflow: auto;\n",
       "}\n",
       "\n",
       "#sk-container-id-2 input.sk-toggleable__control:checked~label.sk-toggleable__label-arrow:before {\n",
       "  content: \"▾\";\n",
       "}\n",
       "\n",
       "/* Pipeline/ColumnTransformer-specific style */\n",
       "\n",
       "#sk-container-id-2 div.sk-label input.sk-toggleable__control:checked~label.sk-toggleable__label {\n",
       "  color: var(--sklearn-color-text);\n",
       "  background-color: var(--sklearn-color-unfitted-level-2);\n",
       "}\n",
       "\n",
       "#sk-container-id-2 div.sk-label.fitted input.sk-toggleable__control:checked~label.sk-toggleable__label {\n",
       "  background-color: var(--sklearn-color-fitted-level-2);\n",
       "}\n",
       "\n",
       "/* Estimator-specific style */\n",
       "\n",
       "/* Colorize estimator box */\n",
       "#sk-container-id-2 div.sk-estimator input.sk-toggleable__control:checked~label.sk-toggleable__label {\n",
       "  /* unfitted */\n",
       "  background-color: var(--sklearn-color-unfitted-level-2);\n",
       "}\n",
       "\n",
       "#sk-container-id-2 div.sk-estimator.fitted input.sk-toggleable__control:checked~label.sk-toggleable__label {\n",
       "  /* fitted */\n",
       "  background-color: var(--sklearn-color-fitted-level-2);\n",
       "}\n",
       "\n",
       "#sk-container-id-2 div.sk-label label.sk-toggleable__label,\n",
       "#sk-container-id-2 div.sk-label label {\n",
       "  /* The background is the default theme color */\n",
       "  color: var(--sklearn-color-text-on-default-background);\n",
       "}\n",
       "\n",
       "/* On hover, darken the color of the background */\n",
       "#sk-container-id-2 div.sk-label:hover label.sk-toggleable__label {\n",
       "  color: var(--sklearn-color-text);\n",
       "  background-color: var(--sklearn-color-unfitted-level-2);\n",
       "}\n",
       "\n",
       "/* Label box, darken color on hover, fitted */\n",
       "#sk-container-id-2 div.sk-label.fitted:hover label.sk-toggleable__label.fitted {\n",
       "  color: var(--sklearn-color-text);\n",
       "  background-color: var(--sklearn-color-fitted-level-2);\n",
       "}\n",
       "\n",
       "/* Estimator label */\n",
       "\n",
       "#sk-container-id-2 div.sk-label label {\n",
       "  font-family: monospace;\n",
       "  font-weight: bold;\n",
       "  display: inline-block;\n",
       "  line-height: 1.2em;\n",
       "}\n",
       "\n",
       "#sk-container-id-2 div.sk-label-container {\n",
       "  text-align: center;\n",
       "}\n",
       "\n",
       "/* Estimator-specific */\n",
       "#sk-container-id-2 div.sk-estimator {\n",
       "  font-family: monospace;\n",
       "  border: 1px dotted var(--sklearn-color-border-box);\n",
       "  border-radius: 0.25em;\n",
       "  box-sizing: border-box;\n",
       "  margin-bottom: 0.5em;\n",
       "  /* unfitted */\n",
       "  background-color: var(--sklearn-color-unfitted-level-0);\n",
       "}\n",
       "\n",
       "#sk-container-id-2 div.sk-estimator.fitted {\n",
       "  /* fitted */\n",
       "  background-color: var(--sklearn-color-fitted-level-0);\n",
       "}\n",
       "\n",
       "/* on hover */\n",
       "#sk-container-id-2 div.sk-estimator:hover {\n",
       "  /* unfitted */\n",
       "  background-color: var(--sklearn-color-unfitted-level-2);\n",
       "}\n",
       "\n",
       "#sk-container-id-2 div.sk-estimator.fitted:hover {\n",
       "  /* fitted */\n",
       "  background-color: var(--sklearn-color-fitted-level-2);\n",
       "}\n",
       "\n",
       "/* Specification for estimator info (e.g. \"i\" and \"?\") */\n",
       "\n",
       "/* Common style for \"i\" and \"?\" */\n",
       "\n",
       ".sk-estimator-doc-link,\n",
       "a:link.sk-estimator-doc-link,\n",
       "a:visited.sk-estimator-doc-link {\n",
       "  float: right;\n",
       "  font-size: smaller;\n",
       "  line-height: 1em;\n",
       "  font-family: monospace;\n",
       "  background-color: var(--sklearn-color-background);\n",
       "  border-radius: 1em;\n",
       "  height: 1em;\n",
       "  width: 1em;\n",
       "  text-decoration: none !important;\n",
       "  margin-left: 1ex;\n",
       "  /* unfitted */\n",
       "  border: var(--sklearn-color-unfitted-level-1) 1pt solid;\n",
       "  color: var(--sklearn-color-unfitted-level-1);\n",
       "}\n",
       "\n",
       ".sk-estimator-doc-link.fitted,\n",
       "a:link.sk-estimator-doc-link.fitted,\n",
       "a:visited.sk-estimator-doc-link.fitted {\n",
       "  /* fitted */\n",
       "  border: var(--sklearn-color-fitted-level-1) 1pt solid;\n",
       "  color: var(--sklearn-color-fitted-level-1);\n",
       "}\n",
       "\n",
       "/* On hover */\n",
       "div.sk-estimator:hover .sk-estimator-doc-link:hover,\n",
       ".sk-estimator-doc-link:hover,\n",
       "div.sk-label-container:hover .sk-estimator-doc-link:hover,\n",
       ".sk-estimator-doc-link:hover {\n",
       "  /* unfitted */\n",
       "  background-color: var(--sklearn-color-unfitted-level-3);\n",
       "  color: var(--sklearn-color-background);\n",
       "  text-decoration: none;\n",
       "}\n",
       "\n",
       "div.sk-estimator.fitted:hover .sk-estimator-doc-link.fitted:hover,\n",
       ".sk-estimator-doc-link.fitted:hover,\n",
       "div.sk-label-container:hover .sk-estimator-doc-link.fitted:hover,\n",
       ".sk-estimator-doc-link.fitted:hover {\n",
       "  /* fitted */\n",
       "  background-color: var(--sklearn-color-fitted-level-3);\n",
       "  color: var(--sklearn-color-background);\n",
       "  text-decoration: none;\n",
       "}\n",
       "\n",
       "/* Span, style for the box shown on hovering the info icon */\n",
       ".sk-estimator-doc-link span {\n",
       "  display: none;\n",
       "  z-index: 9999;\n",
       "  position: relative;\n",
       "  font-weight: normal;\n",
       "  right: .2ex;\n",
       "  padding: .5ex;\n",
       "  margin: .5ex;\n",
       "  width: min-content;\n",
       "  min-width: 20ex;\n",
       "  max-width: 50ex;\n",
       "  color: var(--sklearn-color-text);\n",
       "  box-shadow: 2pt 2pt 4pt #999;\n",
       "  /* unfitted */\n",
       "  background: var(--sklearn-color-unfitted-level-0);\n",
       "  border: .5pt solid var(--sklearn-color-unfitted-level-3);\n",
       "}\n",
       "\n",
       ".sk-estimator-doc-link.fitted span {\n",
       "  /* fitted */\n",
       "  background: var(--sklearn-color-fitted-level-0);\n",
       "  border: var(--sklearn-color-fitted-level-3);\n",
       "}\n",
       "\n",
       ".sk-estimator-doc-link:hover span {\n",
       "  display: block;\n",
       "}\n",
       "\n",
       "/* \"?\"-specific style due to the `<a>` HTML tag */\n",
       "\n",
       "#sk-container-id-2 a.estimator_doc_link {\n",
       "  float: right;\n",
       "  font-size: 1rem;\n",
       "  line-height: 1em;\n",
       "  font-family: monospace;\n",
       "  background-color: var(--sklearn-color-background);\n",
       "  border-radius: 1rem;\n",
       "  height: 1rem;\n",
       "  width: 1rem;\n",
       "  text-decoration: none;\n",
       "  /* unfitted */\n",
       "  color: var(--sklearn-color-unfitted-level-1);\n",
       "  border: var(--sklearn-color-unfitted-level-1) 1pt solid;\n",
       "}\n",
       "\n",
       "#sk-container-id-2 a.estimator_doc_link.fitted {\n",
       "  /* fitted */\n",
       "  border: var(--sklearn-color-fitted-level-1) 1pt solid;\n",
       "  color: var(--sklearn-color-fitted-level-1);\n",
       "}\n",
       "\n",
       "/* On hover */\n",
       "#sk-container-id-2 a.estimator_doc_link:hover {\n",
       "  /* unfitted */\n",
       "  background-color: var(--sklearn-color-unfitted-level-3);\n",
       "  color: var(--sklearn-color-background);\n",
       "  text-decoration: none;\n",
       "}\n",
       "\n",
       "#sk-container-id-2 a.estimator_doc_link.fitted:hover {\n",
       "  /* fitted */\n",
       "  background-color: var(--sklearn-color-fitted-level-3);\n",
       "}\n",
       "</style><div id=\"sk-container-id-2\" class=\"sk-top-container\"><div class=\"sk-text-repr-fallback\"><pre>RandomForestClassifier(n_estimators=3)</pre><b>In a Jupyter environment, please rerun this cell to show the HTML representation or trust the notebook. <br />On GitHub, the HTML representation is unable to render, please try loading this page with nbviewer.org.</b></div><div class=\"sk-container\" hidden><div class=\"sk-item\"><div class=\"sk-estimator fitted sk-toggleable\"><input class=\"sk-toggleable__control sk-hidden--visually\" id=\"sk-estimator-id-2\" type=\"checkbox\" checked><label for=\"sk-estimator-id-2\" class=\"sk-toggleable__label fitted sk-toggleable__label-arrow fitted\">&nbsp;&nbsp;RandomForestClassifier<a class=\"sk-estimator-doc-link fitted\" rel=\"noreferrer\" target=\"_blank\" href=\"https://scikit-learn.org/1.5/modules/generated/sklearn.ensemble.RandomForestClassifier.html\">?<span>Documentation for RandomForestClassifier</span></a><span class=\"sk-estimator-doc-link fitted\">i<span>Fitted</span></span></label><div class=\"sk-toggleable__content fitted\"><pre>RandomForestClassifier(n_estimators=3)</pre></div> </div></div></div></div>"
      ],
      "text/plain": [
       "RandomForestClassifier(n_estimators=3)"
      ]
     },
     "execution_count": 25,
     "metadata": {},
     "output_type": "execute_result"
    }
   ],
   "source": [
    "# Train the Random Forest model\n",
    "rf_clf = RandomForestClassifier(n_estimators=3)\n",
    "rf_clf.fit(X_train_rf, y_train_rf)"
   ]
  },
  {
   "cell_type": "code",
   "execution_count": 26,
   "id": "1cdbb847",
   "metadata": {},
   "outputs": [
    {
     "name": "stdout",
     "output_type": "stream",
     "text": [
      "Classification Report on Test Images:\n",
      "              precision    recall  f1-score   support\n",
      "\n",
      "           0     0.8419    0.8150    0.8283      1000\n",
      "           1     0.8207    0.8470    0.8337      1000\n",
      "\n",
      "    accuracy                         0.8310      2000\n",
      "   macro avg     0.8313    0.8310    0.8310      2000\n",
      "weighted avg     0.8313    0.8310    0.8310      2000\n",
      "\n",
      "AUC on Test Images: 0.8900220000000001\n"
     ]
    }
   ],
   "source": [
    "# Predictions using the test/validation set\n",
    "test_pred_rf = rf_clf.predict(X_test_rf)\n",
    "\n",
    "# Classification Report\n",
    "print(\"Classification Report on Test Images:\")\n",
    "print(classification_report(y_test_rf, test_pred_rf, digits=4))\n",
    "\n",
    "# AUC on validation set\n",
    "test_pred_prob_rf = rf_clf.predict_proba(X_test_rf)[:, 1]\n",
    "test_auc_rf = roc_auc_score(y_test_rf, test_pred_prob_rf)\n",
    "print(\"AUC on Test Images:\", test_auc_rf)"
   ]
  },
  {
   "cell_type": "code",
   "execution_count": 27,
   "id": "0a0d4469",
   "metadata": {},
   "outputs": [
    {
     "data": {
      "image/png": "[encoded data removed]",
      "text/plain": [
       "<Figure size 360x360 with 2 Axes>"
      ]
     },
     "metadata": {
      "needs_background": "light"
     },
     "output_type": "display_data"
    }
   ],
   "source": [
    "cm = confusion_matrix(y_test_rf, test_pred_rf)\n",
    "\n",
    "#Plot the confusion matrix\n",
    "plt.figure(figsize=(5,5))\n",
    "sns.heatmap(cm, annot=True, fmt=\"d\")\n",
    "plt.title('Confusion matrix for random forest')\n",
    "plt.ylabel('Actual label')\n",
    "plt.xlabel('Predicted label')\n",
    "plt.show()"
   ]
  },
  {
   "cell_type": "markdown",
   "id": "b79335a3",
   "metadata": {},
   "source": [
    "## ResNet50"
   ]
  },
  {
   "cell_type": "code",
   "execution_count": 28,
   "id": "17c4a59c",
   "metadata": {},
   "outputs": [],
   "source": [
    "def create_resnet_model(input_shape):\n",
    "    base_model = ResNet50(weights='imagenet', include_top=False, input_shape=input_shape)\n",
    "    x = base_model.output\n",
    "    x = Flatten()(x)\n",
    "    x = Dense(128, activation='relu')(x) #128 WAS 1024\n",
    "    x = Dropout(0.2)(x) #original 0.5\n",
    "    predictions = Dense(1, activation='sigmoid')(x)\n",
    "    \n",
    "    model = Model(inputs=base_model.input, outputs=predictions)\n",
    "    \n",
    "    for layer in base_model.layers:\n",
    "        layer.trainable = False\n",
    "    \n",
    "    adam_optimizer = Adam(learning_rate=0.0001) #new line\n",
    "    \n",
    "    model.compile(optimizer='adam', loss='binary_crossentropy', metrics=['accuracy', tf.keras.metrics.AUC(name='auc')])\n",
    "    return model"
   ]
  },
  {
   "cell_type": "code",
   "execution_count": 29,
   "id": "8bd9351c",
   "metadata": {},
   "outputs": [
    {
     "name": "stdout",
     "output_type": "stream",
     "text": [
      "Epoch 1/20\n",
      "\u001b[1m500/500\u001b[0m \u001b[32m━━━━━━━━━━━━━━━━━━━━\u001b[0m\u001b[37m\u001b[0m \u001b[1m132s\u001b[0m 255ms/step - accuracy: 0.5911 - auc: 0.6273 - loss: 0.8440 - val_accuracy: 0.6570 - val_auc: 0.7974 - val_loss: 0.5894\n",
      "Epoch 2/20\n",
      "\u001b[1m500/500\u001b[0m \u001b[32m━━━━━━━━━━━━━━━━━━━━\u001b[0m\u001b[37m\u001b[0m \u001b[1m124s\u001b[0m 249ms/step - accuracy: 0.7024 - auc: 0.7768 - loss: 0.5548 - val_accuracy: 0.7210 - val_auc: 0.8288 - val_loss: 0.5367\n",
      "Epoch 3/20\n",
      "\u001b[1m500/500\u001b[0m \u001b[32m━━━━━━━━━━━━━━━━━━━━\u001b[0m\u001b[37m\u001b[0m \u001b[1m125s\u001b[0m 250ms/step - accuracy: 0.7186 - auc: 0.8007 - loss: 0.5312 - val_accuracy: 0.7465 - val_auc: 0.8427 - val_loss: 0.5123\n",
      "Epoch 4/20\n",
      "\u001b[1m500/500\u001b[0m \u001b[32m━━━━━━━━━━━━━━━━━━━━\u001b[0m\u001b[37m\u001b[0m \u001b[1m124s\u001b[0m 248ms/step - accuracy: 0.7457 - auc: 0.8015 - loss: 0.5393 - val_accuracy: 0.7150 - val_auc: 0.7681 - val_loss: 0.5651\n",
      "Epoch 5/20\n",
      "\u001b[1m500/500\u001b[0m \u001b[32m━━━━━━━━━━━━━━━━━━━━\u001b[0m\u001b[37m\u001b[0m \u001b[1m130s\u001b[0m 259ms/step - accuracy: 0.7295 - auc: 0.7734 - loss: 0.5550 - val_accuracy: 0.7195 - val_auc: 0.8084 - val_loss: 0.5447\n",
      "Epoch 6/20\n",
      "\u001b[1m500/500\u001b[0m \u001b[32m━━━━━━━━━━━━━━━━━━━━\u001b[0m\u001b[37m\u001b[0m \u001b[1m124s\u001b[0m 247ms/step - accuracy: 0.7440 - auc: 0.7953 - loss: 0.5317 - val_accuracy: 0.7380 - val_auc: 0.8334 - val_loss: 0.5313\n"
     ]
    }
   ],
   "source": [
    "input_shape = (image_size, image_size, 3)  # Change to 3 channels as ResNet expects RGB images\n",
    "train_images_rgb = np.repeat(train_images_balanced, 3, axis=-1)  # Repeat grayscale images to make them 3-channel RGB\n",
    "val_images_rgb = np.repeat(val_images, 3, axis=-1)\n",
    "\n",
    "resnet_model = create_resnet_model(input_shape)\n",
    "\n",
    "early_stopping = EarlyStopping(patience=3, restore_best_weights=True)\n",
    "\n",
    "history = resnet_model.fit(train_images_rgb, train_labels_balanced, epochs=20, batch_size=32,\n",
    "                           validation_data=(val_images_rgb, val_labels),\n",
    "                           callbacks=[early_stopping])"
   ]
  },
  {
   "cell_type": "code",
   "execution_count": 30,
   "id": "ba11919c",
   "metadata": {},
   "outputs": [
    {
     "name": "stdout",
     "output_type": "stream",
     "text": [
      "\u001b[1m500/500\u001b[0m \u001b[32m━━━━━━━━━━━━━━━━━━━━\u001b[0m\u001b[37m\u001b[0m \u001b[1m103s\u001b[0m 203ms/step\n"
     ]
    }
   ],
   "source": [
    "train_pred_prob_rn = resnet_model.predict(train_images_rgb)\n",
    "train_pred_rn = (train_pred_prob_rn > 0.5).astype(np.int32)"
   ]
  },
  {
   "cell_type": "code",
   "execution_count": 31,
   "id": "550e5ae9",
   "metadata": {},
   "outputs": [
    {
     "name": "stdout",
     "output_type": "stream",
     "text": [
      "Classification Report on Training Images:\n",
      "              precision    recall  f1-score   support\n",
      "\n",
      "           0     0.7873    0.7692    0.7782      8000\n",
      "           1     0.7744    0.7921    0.7832      8000\n",
      "\n",
      "    accuracy                         0.7807     16000\n",
      "   macro avg     0.7808    0.7807    0.7807     16000\n",
      "weighted avg     0.7808    0.7807    0.7807     16000\n",
      "\n",
      "AUC on Training Images: 0.9713925937499999\n"
     ]
    }
   ],
   "source": [
    "#training set results\n",
    "print(\"Classification Report on Training Images:\")\n",
    "print(classification_report(train_labels_balanced, train_pred_rn, digits=4))\n",
    "\n",
    "train_auc_rn = roc_auc_score(train_labels_balanced, train_pred_prob_rn)\n",
    "print(\"AUC on Training Images:\", train_auc)"
   ]
  },
  {
   "cell_type": "code",
   "execution_count": 32,
   "id": "2eef7344",
   "metadata": {},
   "outputs": [
    {
     "name": "stdout",
     "output_type": "stream",
     "text": [
      "\u001b[1m63/63\u001b[0m \u001b[32m━━━━━━━━━━━━━━━━━━━━\u001b[0m\u001b[37m\u001b[0m \u001b[1m14s\u001b[0m 223ms/step\n"
     ]
    }
   ],
   "source": [
    "# Predict probabilities for the test images\n",
    "test_pred_prob_rn = resnet_model.predict(val_images_rgb)\n",
    "test_pred_rn = (test_pred_prob_rn > 0.5).astype(np.int32)"
   ]
  },
  {
   "cell_type": "code",
   "execution_count": 33,
   "id": "174d324f",
   "metadata": {},
   "outputs": [
    {
     "name": "stdout",
     "output_type": "stream",
     "text": [
      "Classification Report on Test Images:\n",
      "              precision    recall  f1-score   support\n",
      "\n",
      "           0     0.7131    0.8250    0.7650      1000\n",
      "           1     0.7924    0.6680    0.7249      1000\n",
      "\n",
      "    accuracy                         0.7465      2000\n",
      "   macro avg     0.7527    0.7465    0.7449      2000\n",
      "weighted avg     0.7527    0.7465    0.7449      2000\n",
      "\n",
      "AUC on Test Images: 0.8428960000000001\n"
     ]
    }
   ],
   "source": [
    "#Evaluate the model on the test images\n",
    "print(\"Classification Report on Test Images:\")\n",
    "print(classification_report(val_labels, test_pred_rn, digits=4))\n",
    "\n",
    "test_auc_rn = roc_auc_score(val_labels, test_pred_prob_rn)\n",
    "print(\"AUC on Test Images:\", test_auc_rn)"
   ]
  },
  {
   "cell_type": "code",
   "execution_count": 34,
   "id": "cb5f640d",
   "metadata": {},
   "outputs": [
    {
     "data": {
      "image/png": "[encoded data removed]",
      "text/plain": [
       "<Figure size 432x288 with 2 Axes>"
      ]
     },
     "metadata": {
      "needs_background": "light"
     },
     "output_type": "display_data"
    }
   ],
   "source": [
    "cm = confusion_matrix(val_labels, test_pred_rn)\n",
    "sns.heatmap(cm, annot=True, fmt='d', cmap='Blues')\n",
    "plt.xlabel('Predicted')\n",
    "plt.ylabel('Actual')\n",
    "plt.title('Confusion Matrix ResNet50')\n",
    "plt.show()"
   ]
  },
  {
   "cell_type": "markdown",
   "id": "63eaf9f0",
   "metadata": {},
   "source": [
    "# Performance Comparision\n",
    "The section shows a graph plot comparing how well each model did on the test set"
   ]
  },
  {
   "cell_type": "code",
   "execution_count": 35,
   "id": "57d9f994",
   "metadata": {},
   "outputs": [],
   "source": [
    "def calculate_all_quantities(y_true, y_pred):\n",
    "    tn, fp, fn, tp = confusion_matrix(y_true, y_pred).ravel()\n",
    "    return tp, tn, fp, fn\n",
    "\n",
    "#finding quantities for each model\n",
    "cnn_tp, cnn_tn, cnn_fp, cnn_fn = calculate_all_quantities(val_labels, test_pred_cnn)\n",
    "svm_tp, svm_tn, svm_fp, svm_fn = calculate_all_quantities(val_labels, test_pred_svm)\n",
    "rf_tp, rf_tn, rf_fp, rf_fn = calculate_all_quantities(val_labels, test_pred_rf)\n",
    "resnet_tp, resnet_tn, resnet_fp, resnet_fn = calculate_all_quantities(val_labels, test_pred_rn)"
   ]
  },
  {
   "cell_type": "code",
   "execution_count": 36,
   "id": "bd43aa48",
   "metadata": {},
   "outputs": [],
   "source": [
    "data = {\n",
    "    'Model': ['CNN', 'SVM', 'Random Forest', 'ResNet50'],\n",
    "    'True Positives': [cnn_tp, svm_tp, rf_tp, resnet_tp],\n",
    "    'True Negatives': [cnn_tn, svm_tn, rf_tn, resnet_tn],\n",
    "    'False Positives': [cnn_fp, svm_fp, rf_fp, resnet_fp],\n",
    "    'False Negatives': [cnn_fn, svm_fn, rf_fn, resnet_fn]\n",
    "}\n",
    "\n",
    "df_quantities = pd.DataFrame(data)"
   ]
  },
  {
   "cell_type": "code",
   "execution_count": 37,
   "id": "9dd660d7",
   "metadata": {},
   "outputs": [
    {
     "data": {
      "image/png": "[encoded data removed]",
      "text/plain": [
       "<Figure size 864x576 with 1 Axes>"
      ]
     },
     "metadata": {
      "needs_background": "light"
     },
     "output_type": "display_data"
    }
   ],
   "source": [
    "plt.figure(figsize=(12, 8))\n",
    "\n",
    "#X-axis positions\n",
    "bar_width = 0.4\n",
    "r1 = np.arange(len(df_quantities['Model']))\n",
    "\n",
    "#stacked bar plots for True Positives and True Negatives\n",
    "plt.bar(r1, df_quantities['True Positives'], color='green', width=bar_width, edgecolor='grey', label='True Positives')\n",
    "plt.bar(r1, df_quantities['True Negatives'], bottom=df_quantities['True Positives'], color='lightgreen', width=bar_width, edgecolor='grey', label='True Negatives')\n",
    "\n",
    "#stacked bar plots for False Positives and False Negatives\n",
    "plt.bar(r1 + bar_width, df_quantities['False Negatives'], bottom=df_quantities['False Positives'], color='orange', width=bar_width, edgecolor='grey', label='False Negatives')\n",
    "plt.bar(r1 + bar_width, df_quantities['False Positives'], color='red', width=bar_width, edgecolor='grey', label='False Positives')\n",
    "\n",
    "#Adding labels and title\n",
    "plt.xlabel('Models', fontsize=14)\n",
    "plt.ylabel('Number of Predictions', fontsize=14)\n",
    "plt.title('Model Comparison: True vs False Predictions with TP/TN and FP/FN Split', fontsize=16)\n",
    "plt.xticks([r + bar_width / 2 for r in range(len(df_quantities['Model']))], df_quantities['Model'])\n",
    "\n",
    "plt.legend()\n",
    "\n",
    "#value annotations\n",
    "for i, model in enumerate(df_quantities['Model']):\n",
    "    # Annotate True Positives\n",
    "    plt.text(r1[i], df_quantities['True Positives'][i] / 2, f'{df_quantities[\"True Positives\"][i]}', ha='center', va='center', fontweight='bold')\n",
    "    # Annotate True Negatives\n",
    "    plt.text(r1[i], df_quantities['True Positives'][i] + df_quantities['True Negatives'][i] / 2, f'{df_quantities[\"True Negatives\"][i]}', ha='center', va='center', fontweight='bold')\n",
    "    # Annotate False Positives\n",
    "    plt.text(r1[i] + bar_width, df_quantities['False Positives'][i] / 2, f'{df_quantities[\"False Positives\"][i]}', ha='center', va='center', fontweight='bold')\n",
    "    # Annotate False Negatives\n",
    "    plt.text(r1[i] + bar_width, df_quantities['False Positives'][i] + df_quantities['False Negatives'][i] / 2, f'{df_quantities[\"False Negatives\"][i]}', ha='center', va='center', fontweight='bold')\n",
    "\n",
    "# Show plot\n",
    "plt.tight_layout()\n",
    "plt.show()"
   ]
  },
  {
   "cell_type": "markdown",
   "id": "66970d3d",
   "metadata": {},
   "source": [
    "## Best model improvements\n",
    "From the results the best model seems to be CNN based on the classification reports and confusion matrices of the test set. The subsequent code will be attempts to improve the performance of the model further."
   ]
  },
  {
   "cell_type": "code",
   "execution_count": 38,
   "id": "5b36cbf2",
   "metadata": {},
   "outputs": [],
   "source": [
    "def cnn_model_2(input_shape):\n",
    "    model = models.Sequential([\n",
    "        layers.Conv2D(32, (3, 3), activation='relu', input_shape=input_shape),\n",
    "        layers.BatchNormalization(),\n",
    "        layers.MaxPooling2D((2, 2)),\n",
    "        \n",
    "        layers.Conv2D(64, (3, 3), activation='relu'),\n",
    "        layers.BatchNormalization(),\n",
    "        layers.MaxPooling2D((2, 2)),\n",
    "        \n",
    "        layers.Conv2D(128, (3, 3), activation='relu'),\n",
    "        layers.BatchNormalization(),\n",
    "        layers.MaxPooling2D((2, 2)),\n",
    "        layers.Flatten(),\n",
    "        \n",
    "        layers.Dense(128, activation='relu'), \n",
    "        layers.Dropout(0.2),\n",
    "        layers.Dense(1, activation='sigmoid')\n",
    "    ])\n",
    "    \n",
    "    adam_optimizer = optimizers.Adam(learning_rate=0.001)#0.0001\n",
    "    \n",
    "    model.compile(optimizer='adam',\n",
    "                  loss='binary_crossentropy',\n",
    "                  metrics=['accuracy', tf.keras.metrics.AUC(name='auc')])\n",
    "    return model"
   ]
  },
  {
   "cell_type": "code",
   "execution_count": 39,
   "id": "748b999a",
   "metadata": {},
   "outputs": [
    {
     "name": "stdout",
     "output_type": "stream",
     "text": [
      "Epoch 1/20\n"
     ]
    },
    {
     "name": "stderr",
     "output_type": "stream",
     "text": [
      "C:\\Users\\Bakab\\anaconda3\\lib\\site-packages\\keras\\src\\layers\\convolutional\\base_conv.py:107: UserWarning: Do not pass an `input_shape`/`input_dim` argument to a layer. When using Sequential models, prefer using an `Input(shape)` object as the first layer in the model instead.\n",
      "  super().__init__(activity_regularizer=activity_regularizer, **kwargs)\n"
     ]
    },
    {
     "name": "stdout",
     "output_type": "stream",
     "text": [
      "\u001b[1m250/250\u001b[0m \u001b[32m━━━━━━━━━━━━━━━━━━━━\u001b[0m\u001b[37m\u001b[0m \u001b[1m117s\u001b[0m 462ms/step - accuracy: 0.7471 - auc: 0.8233 - loss: 0.9103 - val_accuracy: 0.5000 - val_auc: 0.4626 - val_loss: 3.6719\n",
      "Epoch 2/20\n",
      "\u001b[1m250/250\u001b[0m \u001b[32m━━━━━━━━━━━━━━━━━━━━\u001b[0m\u001b[37m\u001b[0m \u001b[1m120s\u001b[0m 478ms/step - accuracy: 0.8181 - auc: 0.9035 - loss: 0.3931 - val_accuracy: 0.6515 - val_auc: 0.8452 - val_loss: 0.5959\n",
      "Epoch 3/20\n",
      "\u001b[1m250/250\u001b[0m \u001b[32m━━━━━━━━━━━━━━━━━━━━\u001b[0m\u001b[37m\u001b[0m \u001b[1m120s\u001b[0m 480ms/step - accuracy: 0.8424 - auc: 0.9226 - loss: 0.3532 - val_accuracy: 0.6270 - val_auc: 0.8485 - val_loss: 0.7557\n",
      "Epoch 4/20\n",
      "\u001b[1m250/250\u001b[0m \u001b[32m━━━━━━━━━━━━━━━━━━━━\u001b[0m\u001b[37m\u001b[0m \u001b[1m118s\u001b[0m 474ms/step - accuracy: 0.8507 - auc: 0.9328 - loss: 0.3294 - val_accuracy: 0.7385 - val_auc: 0.9312 - val_loss: 0.4611\n",
      "Epoch 5/20\n",
      "\u001b[1m250/250\u001b[0m \u001b[32m━━━━━━━━━━━━━━━━━━━━\u001b[0m\u001b[37m\u001b[0m \u001b[1m115s\u001b[0m 461ms/step - accuracy: 0.8593 - auc: 0.9381 - loss: 0.3172 - val_accuracy: 0.5810 - val_auc: 0.8501 - val_loss: 0.7821\n",
      "Epoch 6/20\n",
      "\u001b[1m250/250\u001b[0m \u001b[32m━━━━━━━━━━━━━━━━━━━━\u001b[0m\u001b[37m\u001b[0m \u001b[1m111s\u001b[0m 442ms/step - accuracy: 0.8702 - auc: 0.9464 - loss: 0.2947 - val_accuracy: 0.5140 - val_auc: 0.5273 - val_loss: 7.0524\n",
      "Epoch 7/20\n",
      "\u001b[1m250/250\u001b[0m \u001b[32m━━━━━━━━━━━━━━━━━━━━\u001b[0m\u001b[37m\u001b[0m \u001b[1m111s\u001b[0m 442ms/step - accuracy: 0.8767 - auc: 0.9535 - loss: 0.2748 - val_accuracy: 0.6030 - val_auc: 0.7905 - val_loss: 0.9318\n"
     ]
    }
   ],
   "source": [
    "#early stopping callback\n",
    "early_stopping = callbacks.EarlyStopping(patience=3, restore_best_weights=True)\n",
    "\n",
    "#Training the CNN model\n",
    "cnn_model_2 = cnn_model_2((image_size, image_size, 1))\n",
    "history = cnn_model_2.fit(train_images_balanced, train_labels_balanced, epochs=20, batch_size=64,#32\n",
    "                        validation_data=(val_images, val_labels),\n",
    "                        callbacks=[early_stopping])"
   ]
  },
  {
   "cell_type": "code",
   "execution_count": 40,
   "id": "e127a33d",
   "metadata": {},
   "outputs": [
    {
     "name": "stdout",
     "output_type": "stream",
     "text": [
      "\u001b[1m500/500\u001b[0m \u001b[32m━━━━━━━━━━━━━━━━━━━━\u001b[0m\u001b[37m\u001b[0m \u001b[1m16s\u001b[0m 31ms/step\n",
      "Classification Report on Training Images:\n",
      "              precision    recall  f1-score   support\n",
      "\n",
      "           0     0.7575    0.9466    0.8416      8000\n",
      "           1     0.9289    0.6970    0.7964      8000\n",
      "\n",
      "    accuracy                         0.8218     16000\n",
      "   macro avg     0.8432    0.8218    0.8190     16000\n",
      "weighted avg     0.8432    0.8218    0.8190     16000\n",
      "\n",
      "AUC on Training Images: 0.93495590625\n"
     ]
    }
   ],
   "source": [
    "#Evaluateon the training set\n",
    "train_pred_prob_cnn2 = cnn_model_2.predict(train_images_balanced)\n",
    "#Convert probabilities to class labels\n",
    "train_pred_cnn2 = (train_pred_prob_cnn2 > 0.5).astype(np.int32)\n",
    "\n",
    "print(\"Classification Report on Training Images:\")\n",
    "print(classification_report(train_labels_balanced, train_pred_cnn2, digits=4))\n",
    "\n",
    "#AUC calculation\n",
    "train_auc = roc_auc_score(train_labels_balanced, train_pred_prob_cnn2)\n",
    "print(\"AUC on Training Images:\", train_auc)"
   ]
  },
  {
   "cell_type": "code",
   "execution_count": 41,
   "id": "f8f6b794",
   "metadata": {},
   "outputs": [
    {
     "name": "stdout",
     "output_type": "stream",
     "text": [
      "\u001b[1m63/63\u001b[0m \u001b[32m━━━━━━━━━━━━━━━━━━━━\u001b[0m\u001b[37m\u001b[0m \u001b[1m2s\u001b[0m 32ms/step\n",
      "Classification Report on Test Images:\n",
      "              precision    recall  f1-score   support\n",
      "\n",
      "           0     0.6641    0.9650    0.7868      1000\n",
      "           1     0.9360    0.5120    0.6619      1000\n",
      "\n",
      "    accuracy                         0.7385      2000\n",
      "   macro avg     0.8001    0.7385    0.7244      2000\n",
      "weighted avg     0.8001    0.7385    0.7244      2000\n",
      "\n",
      "AUC on Test Images: 0.931267\n"
     ]
    }
   ],
   "source": [
    "#Predict probabilities for the test images\n",
    "test_pred_prob_cnn2 = cnn_model_2.predict(val_images)\n",
    "test_pred_cnn2 = (test_pred_prob_cnn2 > 0.5).astype(np.int32)\n",
    "\n",
    "#Evaluate the model on the test images\n",
    "print(\"Classification Report on Test Images:\")\n",
    "print(classification_report(val_labels, test_pred_cnn2, digits=4))\n",
    "\n",
    "#AUC calculation\n",
    "test_auc = roc_auc_score(val_labels, test_pred_prob_cnn2)\n",
    "print(\"AUC on Test Images:\", test_auc)"
   ]
  },
  {
   "cell_type": "markdown",
   "id": "c84bf80c",
   "metadata": {},
   "source": [
    "## Parameter tuning"
   ]
  },
  {
   "cell_type": "code",
   "execution_count": 27,
   "id": "1016670c",
   "metadata": {},
   "outputs": [],
   "source": [
    "def grid_search_crossVal(X, y, param_grid, cv, epochs, earlyStop):\n",
    "    results = []\n",
    "\n",
    "    for params in ParameterGrid(param_grid):\n",
    "        scores = []\n",
    "        epochs_list = []\n",
    "\n",
    "        for train_index, val_index in StratifiedKFold(n_splits=cv).split(X, y):\n",
    "            X_train_fold, X_val_fold = X[train_index], X[val_index]\n",
    "            y_train_fold, y_val_fold = y[train_index], y[val_index]\n",
    "            \n",
    "            #define the CNN model with current hyperparameters\n",
    "            model = models.Sequential([\n",
    "                layers.Conv2D(32, (3, 3), activation='relu', input_shape=X.shape[1:]),\n",
    "                layers.BatchNormalization(),\n",
    "                layers.MaxPooling2D((2, 2)),\n",
    "                layers.Conv2D(64, (3, 3), activation='relu'),\n",
    "                layers.BatchNormalization(),\n",
    "                layers.MaxPooling2D((2, 2)),\n",
    "                layers.Conv2D(128, (3, 3), activation='relu'),\n",
    "                layers.BatchNormalization(),\n",
    "                layers.MaxPooling2D((2, 2)),\n",
    "                layers.Flatten(),\n",
    "                layers.Dense(128, activation='relu'), \n",
    "                layers.Dropout(params['dropout']),\n",
    "                layers.Dense(1, activation='sigmoid')\n",
    "            ])\n",
    "            \n",
    "            adam_optimizer = optimizers.Adam(learning_rate=params['learning_rate'])\n",
    "            \n",
    "            model.compile(optimizer=adam_optimizer,\n",
    "                          loss='binary_crossentropy',\n",
    "                          metrics=['accuracy', tf.keras.metrics.AUC(name='auc')])\n",
    "            \n",
    "            early_stopping = callbacks.EarlyStopping(monitor='val_loss', patience=earlyStop, restore_best_weights=True)\n",
    "            history = model.fit(X_train_fold, y_train_fold, batch_size=params['batch_size'], epochs=epochs, \n",
    "                                validation_data=(X_val_fold, y_val_fold), callbacks=[early_stopping], verbose=0)\n",
    "            \n",
    "            score = model.evaluate(X_val_fold, y_val_fold, verbose=0)\n",
    "            \n",
    "            scores.append(score)\n",
    "            epochs_list.append(len(history.history['loss']))\n",
    "        \n",
    "        mean_score = np.mean(scores, axis=0)\n",
    "        mean_epochs = np.mean(epochs_list)\n",
    "        \n",
    "        results.append((mean_score, mean_epochs, params))\n",
    "\n",
    "    results.sort(key=lambda x: x[0][1], reverse=True)\n",
    "\n",
    "    return results[0]"
   ]
  },
  {
   "cell_type": "code",
   "execution_count": 28,
   "id": "2dce3870",
   "metadata": {},
   "outputs": [],
   "source": [
    "#parameter grid\n",
    "param_grid = {\n",
    "    'learning_rate': [0.001, 0.0001],\n",
    "    'dropout': [0.2],\n",
    "    'batch_size': [64, 128]\n",
    "}"
   ]
  },
  {
   "cell_type": "code",
   "execution_count": 29,
   "id": "c7064b58",
   "metadata": {},
   "outputs": [],
   "source": [
    "KFOLDS = 5\n",
    "epochs = 20\n",
    "earlyStop = 3"
   ]
  },
  {
   "cell_type": "code",
   "execution_count": 30,
   "id": "2fd74804",
   "metadata": {},
   "outputs": [
    {
     "name": "stderr",
     "output_type": "stream",
     "text": [
      "C:\\Users\\Bakab\\anaconda3\\lib\\site-packages\\keras\\src\\layers\\convolutional\\base_conv.py:107: UserWarning: Do not pass an `input_shape`/`input_dim` argument to a layer. When using Sequential models, prefer using an `Input(shape)` object as the first layer in the model instead.\n",
      "  super().__init__(activity_regularizer=activity_regularizer, **kwargs)\n",
      "C:\\Users\\Bakab\\anaconda3\\lib\\site-packages\\keras\\src\\layers\\convolutional\\base_conv.py:107: UserWarning: Do not pass an `input_shape`/`input_dim` argument to a layer. When using Sequential models, prefer using an `Input(shape)` object as the first layer in the model instead.\n",
      "  super().__init__(activity_regularizer=activity_regularizer, **kwargs)\n",
      "C:\\Users\\Bakab\\anaconda3\\lib\\site-packages\\keras\\src\\layers\\convolutional\\base_conv.py:107: UserWarning: Do not pass an `input_shape`/`input_dim` argument to a layer. When using Sequential models, prefer using an `Input(shape)` object as the first layer in the model instead.\n",
      "  super().__init__(activity_regularizer=activity_regularizer, **kwargs)\n",
      "C:\\Users\\Bakab\\anaconda3\\lib\\site-packages\\keras\\src\\layers\\convolutional\\base_conv.py:107: UserWarning: Do not pass an `input_shape`/`input_dim` argument to a layer. When using Sequential models, prefer using an `Input(shape)` object as the first layer in the model instead.\n",
      "  super().__init__(activity_regularizer=activity_regularizer, **kwargs)\n"
     ]
    },
    {
     "name": "stdout",
     "output_type": "stream",
     "text": [
      "Best Score: [0.35511203 0.8464375  0.92774736], Best Epochs: 7.2, using {'batch_size': 64, 'dropout': 0.2, 'learning_rate': 0.0001}\n"
     ]
    }
   ],
   "source": [
    "best_score, best_epochs, best_params = grid_search_crossVal(train_images_balanced, train_labels_balanced, param_grid, KFOLDS, epochs, earlyStop)\n",
    "print(f\"Best Score: {best_score}, Best Epochs: {best_epochs}, using {best_params}\")"
   ]
  },
  {
   "cell_type": "code",
   "execution_count": 40,
   "id": "2a865ea3",
   "metadata": {},
   "outputs": [
    {
     "name": "stdout",
     "output_type": "stream",
     "text": [
      "Best Accuracy: 0.8464, Best AUC: 0.9277, using {'batch_size': 64, 'dropout': 0.2, 'learning_rate': 0.0001}\n",
      "Number of Epochs: 7.2\n"
     ]
    }
   ],
   "source": [
    "best_loss, best_accuracy, best_auc = best_score\n",
    "print(f\"Best Accuracy: {best_accuracy:.4f}, Best AUC: {best_auc:.4f}, using {best_params}\")\n",
    "print(f\"Number of Epochs: {best_epochs:.1f}\")"
   ]
  },
  {
   "cell_type": "markdown",
   "id": "5ab9bb7b",
   "metadata": {},
   "source": [
    "# Conclusion and evaluating on second dataset"
   ]
  },
  {
   "cell_type": "code",
   "execution_count": 42,
   "id": "13357459",
   "metadata": {},
   "outputs": [],
   "source": [
    "dataset2_test = 'data/test_secondset'"
   ]
  },
  {
   "cell_type": "code",
   "execution_count": 43,
   "id": "6fd2b7d2",
   "metadata": {},
   "outputs": [
    {
     "name": "stdout",
     "output_type": "stream",
     "text": [
      "Test set summary:\n",
      "benign       360\n",
      "malignant    300\n",
      "Name: label, dtype: int64\n"
     ]
    }
   ],
   "source": [
    "test_df_second = create_df(dataset2_test)\n",
    "print(\"Test set summary:\")\n",
    "print(test_df_second['label'].value_counts())"
   ]
  },
  {
   "cell_type": "code",
   "execution_count": 44,
   "id": "5335e25f",
   "metadata": {},
   "outputs": [],
   "source": [
    "#Preprocess second set\n",
    "test_images_second, test_labels_second = df_preprocessing(test_df_second, image_size)"
   ]
  },
  {
   "cell_type": "code",
   "execution_count": 45,
   "id": "a1a6dc12",
   "metadata": {},
   "outputs": [
    {
     "name": "stdout",
     "output_type": "stream",
     "text": [
      "\u001b[1m21/21\u001b[0m \u001b[32m━━━━━━━━━━━━━━━━━━━━\u001b[0m\u001b[37m\u001b[0m \u001b[1m0s\u001b[0m 19ms/step\n"
     ]
    }
   ],
   "source": [
    "# Predict probabilities for the second test images\n",
    "test_pred_prob_cnn_second = cnn_model.predict(test_images_second)\n",
    "test_pred_cnn_second = (test_pred_prob_cnn_second > 0.5).astype(np.int32)"
   ]
  },
  {
   "cell_type": "code",
   "execution_count": 47,
   "id": "724cff69",
   "metadata": {},
   "outputs": [
    {
     "name": "stdout",
     "output_type": "stream",
     "text": [
      "Classification Report on Second Test Images:\n",
      "              precision    recall  f1-score   support\n",
      "\n",
      "           0     0.9073    0.7889    0.8440       360\n",
      "           1     0.7810    0.9033    0.8377       300\n",
      "\n",
      "    accuracy                         0.8409       660\n",
      "   macro avg     0.8442    0.8461    0.8408       660\n",
      "weighted avg     0.8499    0.8409    0.8411       660\n",
      "\n",
      "AUC on Test Images: 0.9441759259259259\n"
     ]
    }
   ],
   "source": [
    "#Evaluate the model on the test images\n",
    "print(\"Classification Report on Second Test Images:\")\n",
    "print(classification_report(test_labels_second, test_pred_cnn_second, digits=4))\n",
    "\n",
    "#AUC calculation\n",
    "test_auc = roc_auc_score(test_labels_second, test_pred_prob_cnn_second)\n",
    "print(\"AUC on Test Images:\", test_auc)"
   ]
  },
  {
   "cell_type": "code",
   "execution_count": 48,
   "id": "8f38ea4f",
   "metadata": {},
   "outputs": [
    {
     "data": {
      "image/png": "[encoded data removed]",
      "text/plain": [
       "<Figure size 360x360 with 2 Axes>"
      ]
     },
     "metadata": {
      "needs_background": "light"
     },
     "output_type": "display_data"
    }
   ],
   "source": [
    "cm_second = confusion_matrix(test_labels_second, test_pred_cnn_second)\n",
    "\n",
    "# Plot the confusion matrix for the second test images\n",
    "plt.figure(figsize=(5, 5))\n",
    "sns.heatmap(cm_second, annot=True, fmt=\"d\")\n",
    "plt.title('Confusion matrix CNN - Second Test Set')\n",
    "plt.ylabel('Actual label')\n",
    "plt.xlabel('Predicted label')\n",
    "plt.show()"
   ]
  }
 ],
 "metadata": {
  "kernelspec": {
   "display_name": "Python 3 (ipykernel)",
   "language": "python",
   "name": "python3"
  },
  "language_info": {
   "codemirror_mode": {
    "name": "ipython",
    "version": 3
   },
   "file_extension": ".py",
   "mimetype": "text/x-python",
   "name": "python",
   "nbconvert_exporter": "python",
   "pygments_lexer": "ipython3",
   "version": "3.9.12"
  }
 },
 "nbformat": 4,
 "nbformat_minor": 5
}
